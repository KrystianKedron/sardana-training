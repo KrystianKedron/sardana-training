{
 "cells": [
  {
   "cell_type": "markdown",
   "metadata": {
    "slideshow": {
     "slide_type": "slide"
    }
   },
   "source": [
    "# Pool - how it manages elements?"
   ]
  },
  {
   "cell_type": "markdown",
   "metadata": {
    "slideshow": {
     "slide_type": "slide"
    }
   },
   "source": [
    "Contents:\n",
    "    \n",
    "* Overview each Pool element type:\n",
    " * Element overview\n",
    " * Element API (some code snippets)\n",
    " * Tango element API\n",
    "\n",
    "**Note1**: The code snippets use the testing utilities, beaware that their API may change\n",
    "\n",
    "**Note2**: The code snippets use polling, it is better to use events"
   ]
  },
  {
   "cell_type": "markdown",
   "metadata": {
    "slideshow": {
     "slide_type": "slide"
    }
   },
   "source": [
    "## Motor\n",
    "\n",
    "* [Motor overview](http://www.sardana-controls.org/en/latest/devel/overview/overview_motor.html#motor-overview)\n",
    "* [Motor API reference](http://www.sardana-controls.org/en/latest/devel/api/api_motor.html#sardana-motor-api)\n",
    "* [Tango Motor API reference](http://www.sardana-controls.org/en/latest/devel/api/sardana/tango/pool/Motor.html#sardana.tango.pool.Motor.Motor)"
   ]
  },
  {
   "cell_type": "markdown",
   "metadata": {
    "slideshow": {
     "slide_type": "subslide"
    }
   },
   "source": [
    "### Motor overview\n",
    "\n",
    "* Interface was designed with physical motors in mind\n",
    "* Interface is dynamic - only Position, State and Status attribute are mandatory\n",
    "* Motor can be anything that can be changed e.g. power supply fits to a motor as well"
   ]
  },
  {
   "cell_type": "markdown",
   "metadata": {
    "slideshow": {
     "slide_type": "subslide"
    }
   },
   "source": [
    "### Motor API reference\n",
    "\n",
    "* *position* and its relation with *dial position*, *offset* and *sign*\n",
    "* *dial position* and its relation with *steps per unit*\n",
    "* *state* and *limit switches*\n",
    "* *velocity*, *acceleration*, *deceleration* and *base rate*\n",
    "* *backlash* and *instability time*\n",
    "* operations: *start move*, *stop* and *abort*"
   ]
  },
  {
   "cell_type": "code",
   "execution_count": 6,
   "metadata": {
    "collapsed": false,
    "slideshow": {
     "slide_type": "fragment"
    }
   },
   "outputs": [
    {
     "name": "stdout",
     "output_type": "stream",
     "text": [
      "Position(\n",
      "       name = Position\n",
      "    manager = mot01\n",
      "       read = 0 at 2017-08-02 15:52:23.284800\n",
      "      write = -----)\n",
      "\n",
      "Position(\n",
      "       name = Position\n",
      "    manager = mot01\n",
      "       read = 20 at 2017-08-02 15:52:23.288789\n",
      "      write = 20 at 2017-08-02 15:52:23.285109)\n",
      "\n"
     ]
    }
   ],
   "source": [
    "import time\n",
    "from sardana.sardanadefs import State\n",
    "from sardana.pool.test import BasePoolTestCase\n",
    "\n",
    "util = BasePoolTestCase()\n",
    "util.setUp()\n",
    "ctrl = util.createController(\"motctrl01\",\n",
    "                      \"FastDummyMotorController\",\n",
    "                      \"DummyMotorController.py\")\n",
    "mot = util.createMotorElement(ctrl, \"mot01\", 1)\n",
    "print mot.get_position()\n",
    "mot.start_move(20)\n",
    "while mot.get_state() == State.Moving:\n",
    "    time.sleep(0.01)\n",
    "print mot.get_position()\n",
    "util.tearDown()"
   ]
  },
  {
   "cell_type": "markdown",
   "metadata": {
    "slideshow": {
     "slide_type": "subslide"
    }
   },
   "source": [
    "### Tango Motor API\n",
    "\n",
    "* All the motor API are also available in Tango Motor API\n",
    "* Extra interface\n",
    " * `DefinePosition` command\n",
    " * `MoveRelative` command \\*\n",
    " * `SaveConfig` command \\*\n",
    " * `Restore` command \\*\n",
    " * `SimulationMode` attribute \\* \n",
    " * `State` and `Limit_switches`events\n",
    " * `Position` events\n",
    " \n",
    "\\* Not implemented or not fully tested"
   ]
  },
  {
   "cell_type": "markdown",
   "metadata": {
    "collapsed": true,
    "slideshow": {
     "slide_type": "slide"
    }
   },
   "source": [
    "## Pseudo motor\n",
    "\n",
    "* [Pseudo motor overview](http://www.sardana-controls.org/en/latest/devel/overview/overview_pseudomotor.html)\n",
    "* [Pseudo motor API reference](http://www.sardana-controls.org/en/latest/devel/api/api_pseudomotor.html#sardana-pseudomotor-api)\n",
    "* [Tango pseudo motor API reference](http://www.sardana-controls.org/en/latest/devel/api/sardana/tango/pool/PseudoMotor.html#sardana.tango.pool.PseudoMotor.PseudoMotor)"
   ]
  },
  {
   "cell_type": "markdown",
   "metadata": {
    "slideshow": {
     "slide_type": "subslide"
    }
   },
   "source": [
    "### Pseudo motor overview\n",
    "* Abstraction layer to provide a motor-like interface on top of motor(s) + calculation\n",
    "* Examples are Slit's gap or offset pseudo motors\n",
    "* Container of motor(s) so its state is a composition of physical motors' states"
   ]
  },
  {
   "cell_type": "markdown",
   "metadata": {
    "slideshow": {
     "slide_type": "subslide"
    }
   },
   "source": [
    "### Pseudo motor API reference\n",
    "* *drift correction*:\n",
    " * why does it happen?\n",
    " * who is affected?\n",
    " * how is it solved?\n",
    " * TODO: move drift correction doc to the API\n",
    "* *siblings*\n",
    "* operations: *start move*, *stop* and *abort*"
   ]
  },
  {
   "cell_type": "markdown",
   "metadata": {
    "slideshow": {
     "slide_type": "subslide"
    }
   },
   "source": [
    "### Tango pseudo motor API\n",
    "\n",
    "* All, apart of the siblings, the Motor API are also available in Tango Motor API \n",
    "* Extra interface\n",
    " * `CalcPhysical`, `CalcPseudo`, `CalcAllPhysical` and `CalcAllPseudo` commands\n",
    " * `MoveRelative` command \\*\n",
    " * `SaveConfig` command \\*\n",
    " * `Restore` command \\*\n",
    " * `SimulationMode` attribute \\* \n",
    " * `State` events\n",
    " * `Position` events\n",
    " \n",
    "\\* Not implemented or not fully tested"
   ]
  },
  {
   "cell_type": "code",
   "execution_count": 3,
   "metadata": {
    "collapsed": false,
    "slideshow": {
     "slide_type": "fragment"
    }
   },
   "outputs": [
    {
     "name": "stdout",
     "output_type": "stream",
     "text": [
      "Position(\n",
      "       name = Position\n",
      "    manager = left\n",
      "       read = 0 at 2017-08-02 13:25:42.871658\n",
      "      write = -----)\n",
      " Position(\n",
      "       name = Position\n",
      "    manager = right\n",
      "       read = 0 at 2017-08-02 13:25:42.872193\n",
      "      write = -----)\n",
      " Position(\n",
      "       name = Position\n",
      "    manager = gap\n",
      "       read = 0 at 2017-08-02 13:25:42.872193\n",
      "      write = -----)\n",
      " Position(\n",
      "       name = Position\n",
      "    manager = offset\n",
      "       read = 0.0 at 2017-08-02 13:25:42.872193\n",
      "      write = -----)\n",
      "\n",
      "Position(\n",
      "       name = Position\n",
      "    manager = left\n",
      "       read = 10.0 at 2017-08-02 13:25:42.887720\n",
      "      write = 10.0 at 2017-08-02 13:25:42.886432)\n",
      " Position(\n",
      "       name = Position\n",
      "    manager = right\n",
      "       read = 0.0 at 2017-08-02 13:25:42.888111\n",
      "      write = 0.0 at 2017-08-02 13:25:42.886432)\n",
      " Position(\n",
      "       name = Position\n",
      "    manager = gap\n",
      "       read = 10.0 at 2017-08-02 13:25:42.888111\n",
      "      write = 10.0 at 2017-08-02 13:25:42.886432)\n",
      " Position(\n",
      "       name = Position\n",
      "    manager = offset\n",
      "       read = 5.0 at 2017-08-02 13:25:42.888111\n",
      "      write = 5.0 at 2017-08-02 13:25:42.886432)\n",
      "\n"
     ]
    }
   ],
   "source": [
    "import time\n",
    "from sardana.sardanadefs import State\n",
    "from sardana.pool.test import BasePoolTestCase\n",
    "\n",
    "util = BasePoolTestCase()\n",
    "util.setUp()\n",
    "mot_ctrl = util.createController(\"motctrl01\",\n",
    "                      \"FastDummyMotorController\",\n",
    "                      \"DummyMotorController.py\")\n",
    "left = util.createMotorElement(mot_ctrl, \"left\", 1)\n",
    "right = util.createMotorElement(mot_ctrl, \"right\", 2)\n",
    "slit_ctrl = util.createController(\"slitctrl01\",\n",
    "                                  \"Slit\",\n",
    "                                  \"Slit.py\")\n",
    "gap = util.createPMElement(slit_ctrl, \"gap\", 1, (left.id, right.id))\n",
    "offset = util.createPMElement(slit_ctrl, \"offset\", 2, (left.id, right.id))\n",
    "print left.get_position(), right.get_position(),\\\n",
    "      gap.get_position(), offset.get_position()\n",
    "gap.start_move(10)\n",
    "while gap.get_state() == State.Moving:\n",
    "    time.sleep(0.01)\n",
    "offset.start_move(5)\n",
    "while offset.get_state() == State.Moving:\n",
    "    time.sleep(0.01)\n",
    "print left.get_position(), right.get_position(),\\\n",
    "      gap.get_position(), offset.get_position()\n",
    "util.tearDown()"
   ]
  },
  {
   "cell_type": "markdown",
   "metadata": {
    "slideshow": {
     "slide_type": "slide"
    }
   },
   "source": [
    "### Other motion concepts"
   ]
  },
  {
   "cell_type": "markdown",
   "metadata": {
    "slideshow": {
     "slide_type": "fragment"
    }
   },
   "source": [
    "* Motion action - controls the motion execution in background (job - worker thread)\n",
    " * Consult states with \"period\" of 10 ms (`MotionLoop_SleepTime`)\n",
    " * Consults positions with every 10 (`MotionLoop_StatesPerPosition`)\n",
    " * Has emergency stop - when any of the motors is in Alarm state"
   ]
  },
  {
   "cell_type": "markdown",
   "metadata": {
    "slideshow": {
     "slide_type": "fragment"
    }
   },
   "source": [
    "* Software limits - prevents motors to move beyond the limits\n",
    " * `set_lim` and `set_lm` macros\n",
    " * implemented using Tango attribute range\n",
    " * Moving more than one motor at a time does not verify software limits - see [#259](https://github.com/sardana-org/sardana/issues/259)\n",
    " * Software limits problems between motors and pseudomotors - see [#36](https://github.com/sardana-org/sardana/issues/36)\n",
    " * Solve inconsistencies between user position limits and dial position limits - see [#159](https://github.com/sardana-org/sardana/issues/159)\n",
    " * Changign steps per unit does not change software limits - see [#9](https://github.com/sardana-org/sardana/issues/9)"
   ]
  },
  {
   "cell_type": "markdown",
   "metadata": {
    "slideshow": {
     "slide_type": "slide"
    }
   },
   "source": [
    "### Other motion concepts"
   ]
  },
  {
   "cell_type": "markdown",
   "metadata": {
    "slideshow": {
     "slide_type": "fragment"
    }
   },
   "source": [
    "* Motor group - the way to move multiple motors in a controled and sychronized way\n",
    " * Dynamically created element and Tango device (`_mg_ms_<random-number>`)\n",
    " * Is not automatically cleaned up - manual cleaning may be convenient"
   ]
  },
  {
   "cell_type": "markdown",
   "metadata": {
    "slideshow": {
     "slide_type": "fragment"
    }
   },
   "source": [
    "* Discrete pseudo motor - restricts the possible moves to a discrete set of states\n",
    " * Similar to IO register\n",
    " * Labels - names of the states\n",
    " * Calibration - relation between label and set point and eventual boundries of states"
   ]
  },
  {
   "cell_type": "markdown",
   "metadata": {
    "collapsed": true,
    "slideshow": {
     "slide_type": "slide"
    }
   },
   "source": [
    "## IO register\n",
    "\n",
    "* [IO register overview](http://www.sardana-controls.org/en/latest/devel/overview/overview_IOR.html)\n",
    "* [IO register API reference](http://www.sardana-controls.org/en/latest/devel/api/api_IOR.html)\n",
    "* [Tango IO register API reference](http://www.sardana-controls.org/en/latest/devel/api/sardana/tango/pool/IORegister.html#sardana.tango.pool.IORegister.IORegister)"
   ]
  },
  {
   "cell_type": "markdown",
   "metadata": {
    "slideshow": {
     "slide_type": "subslide"
    }
   },
   "source": [
    "### IO register overview\n",
    "\n",
    "* Generic element to access hardware registers (`int`, `float` or `bool`)\n",
    "* Write operation should be controlled - see [#21](https://github.com/sardana-org/sardana/issues/21)\n",
    "* [TangoAttIORCtrl](https://sourceforge.net/u/zreszela/sardana-controllers/ci/master/tree/python/ioregister/TangoAttrIORCtrl.py) as alternative to discrete pseudo motor"
   ]
  },
  {
   "cell_type": "markdown",
   "metadata": {
    "slideshow": {
     "slide_type": "slide"
    }
   },
   "source": [
    "## Counter/timer\n",
    "\n",
    "* [Counter/timer overview](http://www.sardana-controls.org/en/latest/devel/overview/overview_countertimer.html)\n",
    "* [Counter/timer API reference](http://www.sardana-controls.org/en/latest/devel/api/api_countertimer.html#sardana-countertimer-api)\n",
    "* [Tango counter/timer API reference](http://www.sardana-controls.org/en/latest/devel/api/sardana/tango/pool/CTExpChannel.html#sardana.tango.pool.CTExpChannel.CTExpChannel)"
   ]
  },
  {
   "cell_type": "markdown",
   "metadata": {
    "slideshow": {
     "slide_type": "subslide"
    }
   },
   "source": [
    "### Counter/timer overview\n",
    "\n",
    "* Represents an experimental channel which acquisition result is a scalar value\n",
    "* Interface was designed with hardware counter/timer devices in mind but fits well to electrometers or ADCs\n",
    "* Acquisition is either synchronized on triggered and controlled by integration time or synchronized by gate\n",
    "* TODO: Draw time evolution of counter/timer acquisition"
   ]
  },
  {
   "cell_type": "markdown",
   "metadata": {
    "slideshow": {
     "slide_type": "subslide"
    }
   },
   "source": [
    "### Counter/timer API reference\n",
    "\n",
    "* *value* attribute - stores the result of the last acquisition - see [SEP#17](https://github.com/reszelaz/sardana/blob/sep17/doc/source/sep/SEP17.md)\n",
    "* Currently its acquisition is limited to the measurement group - see [#185](https://github.com/sardana-org/sardana/issues/185)\n",
    "* operations: *start acquisition*, *stop*, *abort*"
   ]
  },
  {
   "cell_type": "code",
   "execution_count": 8,
   "metadata": {
    "collapsed": false,
    "slideshow": {
     "slide_type": "skip"
    }
   },
   "outputs": [
    {
     "name": "stdout",
     "output_type": "stream",
     "text": [
      "Value(\n",
      "       name = Value\n",
      "    manager = ct01\n",
      "       read = 0.0 at 2017-08-02 15:58:42.088157\n",
      "      write = -----)\n",
      "\n"
     ]
    },
    {
     "ename": "KeyError",
     "evalue": "'config'",
     "output_type": "error",
     "traceback": [
      "\u001b[0;31m---------------------------------------------------------------------------\u001b[0m",
      "\u001b[0;31mKeyError\u001b[0m                                  Traceback (most recent call last)",
      "\u001b[0;32m<ipython-input-8-286d34ad831e>\u001b[0m in \u001b[0;36m<module>\u001b[0;34m()\u001b[0m\n\u001b[1;32m     10\u001b[0m \u001b[0mct\u001b[0m \u001b[0;34m=\u001b[0m \u001b[0mutil\u001b[0m\u001b[0;34m.\u001b[0m\u001b[0mcreateCTElement\u001b[0m\u001b[0;34m(\u001b[0m\u001b[0mctrl\u001b[0m\u001b[0;34m,\u001b[0m \u001b[0;34m\"ct01\"\u001b[0m\u001b[0;34m,\u001b[0m \u001b[0;36m1\u001b[0m\u001b[0;34m)\u001b[0m\u001b[0;34m\u001b[0m\u001b[0m\n\u001b[1;32m     11\u001b[0m \u001b[0;32mprint\u001b[0m \u001b[0mct\u001b[0m\u001b[0;34m.\u001b[0m\u001b[0mget_value\u001b[0m\u001b[0;34m(\u001b[0m\u001b[0;34m)\u001b[0m\u001b[0;34m\u001b[0m\u001b[0m\n\u001b[0;32m---> 12\u001b[0;31m \u001b[0mct\u001b[0m\u001b[0;34m.\u001b[0m\u001b[0mstart_acquisition\u001b[0m\u001b[0;34m(\u001b[0m\u001b[0;36m0.1\u001b[0m\u001b[0;34m)\u001b[0m \u001b[0;31m# this does not work - see #185\u001b[0m\u001b[0;34m\u001b[0m\u001b[0m\n\u001b[0m\u001b[1;32m     13\u001b[0m \u001b[0;32mwhile\u001b[0m \u001b[0mct\u001b[0m\u001b[0;34m.\u001b[0m\u001b[0mget_state\u001b[0m\u001b[0;34m(\u001b[0m\u001b[0;34m)\u001b[0m \u001b[0;34m==\u001b[0m \u001b[0mState\u001b[0m\u001b[0;34m.\u001b[0m\u001b[0mMoving\u001b[0m\u001b[0;34m:\u001b[0m\u001b[0;34m\u001b[0m\u001b[0m\n\u001b[1;32m     14\u001b[0m     \u001b[0mtime\u001b[0m\u001b[0;34m.\u001b[0m\u001b[0msleep\u001b[0m\u001b[0;34m(\u001b[0m\u001b[0;36m0.01\u001b[0m\u001b[0;34m)\u001b[0m\u001b[0;34m\u001b[0m\u001b[0m\n",
      "\u001b[0;32m/home/zreszela/workspace/sardana/src/sardana/pool/poolbasechannel.pyc\u001b[0m in \u001b[0;36mstart_acquisition\u001b[0;34m(self, value)\u001b[0m\n\u001b[1;32m    288\u001b[0m                 \"Invalid integration_time '%s'. Hint set a new value for 'value' first\" % value)\n\u001b[1;32m    289\u001b[0m         \u001b[0;32mif\u001b[0m \u001b[0;32mnot\u001b[0m \u001b[0mself\u001b[0m\u001b[0;34m.\u001b[0m\u001b[0m_simulation_mode\u001b[0m\u001b[0;34m:\u001b[0m\u001b[0;34m\u001b[0m\u001b[0m\n\u001b[0;32m--> 290\u001b[0;31m             \u001b[0macq\u001b[0m \u001b[0;34m=\u001b[0m \u001b[0mself\u001b[0m\u001b[0;34m.\u001b[0m\u001b[0macquisition\u001b[0m\u001b[0;34m.\u001b[0m\u001b[0mrun\u001b[0m\u001b[0;34m(\u001b[0m\u001b[0minteg_time\u001b[0m\u001b[0;34m=\u001b[0m\u001b[0mvalue\u001b[0m\u001b[0;34m)\u001b[0m\u001b[0;34m\u001b[0m\u001b[0m\n\u001b[0m",
      "\u001b[0;32m/home/zreszela/workspace/sardana/src/sardana/pool/poolaction.pyc\u001b[0m in \u001b[0;36mrun\u001b[0;34m(self, *args, **kwargs)\u001b[0m\n\u001b[1;32m    352\u001b[0m             \u001b[0mcontext\u001b[0m\u001b[0;34m.\u001b[0m\u001b[0menter\u001b[0m\u001b[0;34m(\u001b[0m\u001b[0;34m)\u001b[0m\u001b[0;34m\u001b[0m\u001b[0m\n\u001b[1;32m    353\u001b[0m             \u001b[0;32mtry\u001b[0m\u001b[0;34m:\u001b[0m\u001b[0;34m\u001b[0m\u001b[0m\n\u001b[0;32m--> 354\u001b[0;31m                 \u001b[0mself\u001b[0m\u001b[0;34m.\u001b[0m\u001b[0mstart_action\u001b[0m\u001b[0;34m(\u001b[0m\u001b[0;34m*\u001b[0m\u001b[0margs\u001b[0m\u001b[0;34m,\u001b[0m \u001b[0;34m**\u001b[0m\u001b[0mkwargs\u001b[0m\u001b[0;34m)\u001b[0m\u001b[0;34m\u001b[0m\u001b[0m\n\u001b[0m\u001b[1;32m    355\u001b[0m             \u001b[0;32mexcept\u001b[0m\u001b[0;34m:\u001b[0m\u001b[0;34m\u001b[0m\u001b[0m\n\u001b[1;32m    356\u001b[0m                 \u001b[0mcontext\u001b[0m\u001b[0;34m.\u001b[0m\u001b[0mexit\u001b[0m\u001b[0;34m(\u001b[0m\u001b[0;34m)\u001b[0m\u001b[0;34m\u001b[0m\u001b[0m\n",
      "\u001b[0;32m/home/zreszela/workspace/taurus/lib/taurus/core/util/log.pyc\u001b[0m in \u001b[0;36mwrapper\u001b[0;34m(*args, **kwargs)\u001b[0m\n\u001b[1;32m    135\u001b[0m             \u001b[0mf_self\u001b[0m \u001b[0;34m=\u001b[0m \u001b[0margs\u001b[0m\u001b[0;34m[\u001b[0m\u001b[0;36m0\u001b[0m\u001b[0;34m]\u001b[0m\u001b[0;34m\u001b[0m\u001b[0m\n\u001b[1;32m    136\u001b[0m             \u001b[0;32mif\u001b[0m \u001b[0mf_self\u001b[0m\u001b[0;34m.\u001b[0m\u001b[0mlog_level\u001b[0m \u001b[0;34m>\u001b[0m \u001b[0mself\u001b[0m\u001b[0;34m.\u001b[0m\u001b[0m_level\u001b[0m\u001b[0;34m:\u001b[0m\u001b[0;34m\u001b[0m\u001b[0m\n\u001b[0;32m--> 137\u001b[0;31m                 \u001b[0;32mreturn\u001b[0m \u001b[0mf\u001b[0m\u001b[0;34m(\u001b[0m\u001b[0;34m*\u001b[0m\u001b[0margs\u001b[0m\u001b[0;34m,\u001b[0m \u001b[0;34m**\u001b[0m\u001b[0mkwargs\u001b[0m\u001b[0;34m)\u001b[0m\u001b[0;34m\u001b[0m\u001b[0m\n\u001b[0m\u001b[1;32m    138\u001b[0m \u001b[0;34m\u001b[0m\u001b[0m\n\u001b[1;32m    139\u001b[0m             \u001b[0mhas_log\u001b[0m \u001b[0;34m=\u001b[0m \u001b[0mhasattr\u001b[0m\u001b[0;34m(\u001b[0m\u001b[0mf_self\u001b[0m\u001b[0;34m,\u001b[0m \u001b[0;34m\"log\"\u001b[0m\u001b[0;34m)\u001b[0m\u001b[0;34m\u001b[0m\u001b[0m\n",
      "\u001b[0;32m/home/zreszela/workspace/sardana/src/sardana/pool/poolacquisition.pyc\u001b[0m in \u001b[0;36mstart_action\u001b[0;34m(self, *args, **kwargs)\u001b[0m\n\u001b[1;32m    503\u001b[0m \u001b[0;34m\u001b[0m\u001b[0m\n\u001b[1;32m    504\u001b[0m         \u001b[0m_\u001b[0m \u001b[0;34m=\u001b[0m \u001b[0mkwargs\u001b[0m\u001b[0;34m.\u001b[0m\u001b[0mget\u001b[0m\u001b[0;34m(\u001b[0m\u001b[0;34m\"items\"\u001b[0m\u001b[0;34m,\u001b[0m \u001b[0mself\u001b[0m\u001b[0;34m.\u001b[0m\u001b[0mget_elements\u001b[0m\u001b[0;34m(\u001b[0m\u001b[0;34m)\u001b[0m\u001b[0;34m)\u001b[0m\u001b[0;34m\u001b[0m\u001b[0m\n\u001b[0;32m--> 505\u001b[0;31m         \u001b[0mcfg\u001b[0m \u001b[0;34m=\u001b[0m \u001b[0mkwargs\u001b[0m\u001b[0;34m[\u001b[0m\u001b[0;34m'config'\u001b[0m\u001b[0;34m]\u001b[0m\u001b[0;34m\u001b[0m\u001b[0m\n\u001b[0m\u001b[1;32m    506\u001b[0m         \u001b[0;31m# determine which is the controller which holds the master channel\u001b[0m\u001b[0;34m\u001b[0m\u001b[0;34m\u001b[0m\u001b[0m\n\u001b[1;32m    507\u001b[0m \u001b[0;34m\u001b[0m\u001b[0m\n",
      "\u001b[0;31mKeyError\u001b[0m: 'config'"
     ]
    }
   ],
   "source": [
    "import time\n",
    "from sardana.sardanadefs import State\n",
    "from sardana.pool.test import BasePoolTestCase\n",
    "\n",
    "util = BasePoolTestCase()\n",
    "util.setUp()\n",
    "ctrl = util.createController(\"ctctrl01\",\n",
    "                      \"DummyCounterTimerController\",\n",
    "                      \"DummyCounterTimerController.py\")\n",
    "ct = util.createCTElement(ctrl, \"ct01\", 1)\n",
    "print ct.get_value()\n",
    "ct.start_acquisition(0.1) # this does not work - see #185\n",
    "while ct.get_state() == State.Moving:\n",
    "    time.sleep(0.01)\n",
    "print ct.get_value()\n",
    "util.tearDown()"
   ]
  },
  {
   "cell_type": "markdown",
   "metadata": {
    "slideshow": {
     "slide_type": "subslide"
    }
   },
   "source": [
    "## Tango counter/timer API\n",
    "\n",
    "* All the counter/timer API are also available in Tango Motor API\n",
    "* Extra interface\n",
    " * *ValueBuffer* (currently called *Data*) attribute - events in continuous acquisition e.g. continuou scan\n",
    " * *Restore* \\* \n",
    " * *SimulationMode* attribute \\*\n",
    " * *State* events\n",
    " * *Value* events\n",
    "\n",
    "\\* Not implemented or not fully tested"
   ]
  },
  {
   "cell_type": "markdown",
   "metadata": {
    "slideshow": {
     "slide_type": "slide"
    }
   },
   "source": [
    "## 1D and 2D\n",
    "\n",
    "* [1D overview](http://www.sardana-controls.org/en/latest/devel/overview/overview_1D.html)\n",
    "* [1D API reference](http://www.sardana-controls.org/en/latest/devel/api/api_1D.html)\n",
    "* [Tango 1D API reference](http://www.sardana-controls.org/en/latest/devel/api/sardana/tango/pool/OneDExpChannel.html#sardana.tango.pool.OneDExpChannel.OneDExpChannel)\n",
    "* [2D overview](http://www.sardana-controls.org/en/latest/devel/overview/overview_2D.html)\n",
    "* [2D API reference](http://www.sardana-controls.org/en/latest/devel/api/api_2D.html)\n",
    "* [Tango 2D API reference](http://www.sardana-controls.org/en/latest/devel/api/sardana/tango/pool/OneDExpChannel.html#sardana.tango.pool.TwoDExpChannel.TwoDExpChannel)\n"
   ]
  },
  {
   "cell_type": "markdown",
   "metadata": {
    "slideshow": {
     "slide_type": "subslide"
    }
   },
   "source": [
    "### 1D and 2D overview\n",
    "\n",
    "* Represents an experimental channel which acquisition result is:\n",
    " * 1D - a spectrum value\n",
    " * 2D - an image value\n",
    "* Interface was designed with:\n",
    " * 1D - MCA, position sensitive detectors\n",
    " * 2D - CCD, photon counting area dectors\n",
    " in mind\n",
    "* Acquisition is either synchronized on triggered and controlled by integration time or synchronized by gate - exactly the same as in case of counter/timer"
   ]
  },
  {
   "cell_type": "markdown",
   "metadata": {
    "slideshow": {
     "slide_type": "subslide"
    }
   },
   "source": [
    "### 1D and 2D API reference\n",
    "\n",
    "* *value* attribute - stores the result of the last acquisition - see [SEP#17](https://github.com/reszelaz/sardana/blob/sep17/doc/source/sep/SEP17.md)\n",
    "* TODO: *data source* attribute - unique identifier for the 1D data (value attribute)\n",
    "* Currently its acquisition is limited to the measurement group - see [#185](https://github.com/sardana-org/sardana/issues/185)\n",
    "* operations: *start acquisition*, *stop*, *abort*"
   ]
  },
  {
   "cell_type": "markdown",
   "metadata": {
    "slideshow": {
     "slide_type": "subslide"
    }
   },
   "source": [
    "### Tango 1D and 2D API\n",
    "\n",
    "* All the 1D and 2D API are also available in Tango Motor API\n",
    "* Extra interface\n",
    " * *Data* (in the future will be called *ValueBuffer*) attribute - events in continuous acquisition e.g. continuou scan\n",
    " * *Restore* \\* \n",
    " * *SimulationMode* attribute \\*\n",
    " * *State* events\n",
    " * *Value* events\n",
    "\n",
    "\\* Not implemented or not fully tested"
   ]
  },
  {
   "cell_type": "markdown",
   "metadata": {
    "slideshow": {
     "slide_type": "slide"
    }
   },
   "source": [
    "## 0D\n",
    "\n",
    "* [0D overview](http://www.sardana-controls.org/en/latest/devel/overview/overview_0D.html)\n",
    "* [0D API reference](http://www.sardana-controls.org/en/latest/devel/api/api_0D.html)\n",
    "* [Tango 0D API reference](http://www.sardana-controls.org/en/latest/devel/api/sardana/tango/pool/ZeroDExpChannel.html#sardana.tango.pool.ZeroDExpChannel.ZeroDExpChannel)"
   ]
  },
  {
   "cell_type": "markdown",
   "metadata": {
    "slideshow": {
     "slide_type": "subslide"
    }
   },
   "source": [
    "### OD overview\n",
    "\n",
    "* Is used to access any kind of device which returns a scalar value and which are not counter/timer\n",
    "* Executes software sampling with \"period\" of 10 ms and performs calculation on the acquired buffer\n",
    "* Acquisition is slave to counter/timer acquisition"
   ]
  },
  {
   "cell_type": "markdown",
   "metadata": {
    "slideshow": {
     "slide_type": "subslide"
    }
   },
   "source": [
    "### 0D API reference\n",
    "\n",
    "* *value* and *accumulated value * attributes - calculation result\n",
    "* *current value* - instant readout from the hardware\n",
    "* *accumulation* - type of calculation on the buffer\n",
    "* buffers: *accumulation* and *time* - raw samples and their timestamps\n",
    "* currently its acquisition is limited to the measurement group - see [#185](https://github.com/sardana-org/sardana/issues/185)\n",
    "* operations: *start acquisition*, *stop*, *abort*"
   ]
  },
  {
   "cell_type": "markdown",
   "metadata": {
    "slideshow": {
     "slide_type": "subslide"
    }
   },
   "source": [
    "### Tango 0D API\n",
    "\n",
    "* All the 0D API are also available in Tango Motor API\n",
    "* Extra interface\n",
    " * *Data* (in the future will be called *ValueBuffer*) attribute - events in continuous acquisition e.g. continuou scan\n",
    " * *ValueBuffer* is deprecated in favor of *AccumulationBuffer*\n",
    " * *Restore* \\* \n",
    " * *SimulationMode* attribute \\*\n",
    " * *State* events\n",
    " * *Value* events\n",
    "\n",
    "\\* Not implemented or not fully tested"
   ]
  },
  {
   "cell_type": "markdown",
   "metadata": {
    "slideshow": {
     "slide_type": "slide"
    }
   },
   "source": [
    "## Pseudo counter\n",
    "\n",
    "* [Pseudo counter overview](http://www.sardana-controls.org/en/latest/devel/overview/overview_pseudocounter.html)\n",
    "* [Pseudo counter API reference](http://www.sardana-controls.org/en/latest/devel/api/api_pseudocounter.html#sardana-pseudocounter-api)\n",
    "* [Tango pseudo counter API reference](http://www.sardana-controls.org/en/latest/devel/api/sardana/tango/pool/PseudoCounter.html#sardana.tango.pool.PseudoCounter.PseudoCounter)"
   ]
  },
  {
   "cell_type": "markdown",
   "metadata": {
    "slideshow": {
     "slide_type": "subslide"
    }
   },
   "source": [
    "### Pseudo counter overview\n",
    "\n",
    "* Acts like an abstraction layer for any experimental channel or a set of channels allowing to perform calculations on them\n",
    "* Examples is IoverI0 pseudo counter\n",
    "* Container of channel(s) so its state is a composition of physical channels' states"
   ]
  },
  {
   "cell_type": "markdown",
   "metadata": {
    "slideshow": {
     "slide_type": "subslide"
    }
   },
   "source": [
    "### Pseudo counter API reference\n",
    "\n",
    "* siblings\n",
    "* operations: start move, stop and abort"
   ]
  },
  {
   "cell_type": "markdown",
   "metadata": {
    "slideshow": {
     "slide_type": "subslide"
    }
   },
   "source": [
    "### Tango pseudo counter API\n",
    "\n",
    "* All, apart of the siblings, the pseudo counter API are also available in Tango pseudo counter API \n",
    "* Extra interface\n",
    " * `Data` (in the future will be called `ValueBuffer`) attribute - events in continuous acquisition e.g. continuou scan\n",
    " * `CalcPseudo` and `CalcAllPseudo` commands\n",
    " * `Restore` command \\*\n",
    " * `SimulationMode` attribute \\* \n",
    " * `State` events\n",
    " \n",
    "\\* Not implemented or not fully tested"
   ]
  },
  {
   "cell_type": "markdown",
   "metadata": {
    "slideshow": {
     "slide_type": "slide"
    }
   },
   "source": [
    "## Trigger/gate\n",
    "\n",
    "* [Trigger/gate overview](http://www.sardana-controls.org/en/latest/devel/overview/overview_triggergate.html)\n",
    "* [Trigger/gate API reference](http://www.sardana-controls.org/en/latest/devel/api/api_triggergate.html#sardana-triggergate-api)"
   ]
  },
  {
   "cell_type": "markdown",
   "metadata": {
    "slideshow": {
     "slide_type": "slide"
    }
   },
   "source": [
    "### Trigger/gate\n",
    "* Represents synchronization devices like for example the digital trigger and/or gate generators\n",
    "* Their main role is to synchronize acquisition of the experimental channels\n",
    "* May work in time and position domains"
   ]
  },
  {
   "cell_type": "markdown",
   "metadata": {
    "slideshow": {
     "slide_type": "slide"
    }
   },
   "source": [
    "## Measurement group\n",
    "\n",
    "* [Measurement group overview](http://www.sardana-controls.org/en/latest/devel/overview/overview_measurementgroup.html)\n",
    "* [Measurement group API reference](http://www.sardana-controls.org/en/latest/devel/api/api_measurementgroup.html#sardana-measurementgroup-api)"
   ]
  },
  {
   "cell_type": "markdown",
   "metadata": {
    "slideshow": {
     "slide_type": "subslide"
    }
   },
   "source": [
    "### Measurement group overview\n",
    "\n",
    "* Allows the user to access several data acquisition channels at the same time\n",
    "* When creating a measurement group, the user compose it from:\n",
    " * Counter/Timer\n",
    " * 0D\n",
    " * 1D\n",
    " * 2D\n",
    " * Pseudo Counter\n",
    " * external attribute e.g. Tango (not compatible with continuous acquisition)\n",
    "* Indirectly involves trigger/gate elements\n",
    "* Container of channel(s) so its state is a composition of channels' states"
   ]
  },
  {
   "cell_type": "markdown",
   "metadata": {
    "slideshow": {
     "slide_type": "subslide"
    }
   },
   "source": [
    "### Measurement group API reference\n",
    "\n",
    "* *timer* - master timer\n",
    "* *integration time* and *monitor count* \n",
    "\n",
    "* *acquisition mode* - either `Timer` or `Monitor`.\n",
    "* *latency time* \n",
    "* *synchronization* - it is composed from the group(s) of equidistant acquisitions described by the following parameters:\n",
    " * initial point\n",
    " * initial delay\n",
    " * total interval\n",
    " * active interval\n",
    " * number of repetitions\n",
    " * repetitions\n",
    " These parameters can be expressed in different synchronization domains if necessary (time and/or position).\n",
    "* moveable - reference moveable"
   ]
  },
  {
   "cell_type": "code",
   "execution_count": null,
   "metadata": {
    "collapsed": true
   },
   "outputs": [],
   "source": []
  }
 ],
 "metadata": {
  "celltoolbar": "Slideshow",
  "kernelspec": {
   "display_name": "Python 2",
   "language": "python",
   "name": "python2"
  },
  "language_info": {
   "codemirror_mode": {
    "name": "ipython",
    "version": 2
   },
   "file_extension": ".py",
   "mimetype": "text/x-python",
   "name": "python",
   "nbconvert_exporter": "python",
   "pygments_lexer": "ipython2",
   "version": "2.7.13"
  }
 },
 "nbformat": 4,
 "nbformat_minor": 2
}
