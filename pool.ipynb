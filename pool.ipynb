{
 "cells": [
  {
   "cell_type": "markdown",
   "metadata": {
    "slideshow": {
     "slide_type": "slide"
    }
   },
   "source": [
    "# Pool - how it manages elements?"
   ]
  },
  {
   "cell_type": "markdown",
   "metadata": {
    "slideshow": {
     "slide_type": "slide"
    }
   },
   "source": [
    "Contents:\n",
    "    \n",
    "* Overview each Pool element type:\n",
    " * Element overview\n",
    " * Element API (code snippet)\n",
    " * Tango element API\n",
    "\n",
    "**Note**: The code snippets use the testing utilities, their API may change"
   ]
  },
  {
   "cell_type": "markdown",
   "metadata": {
    "slideshow": {
     "slide_type": "slide"
    }
   },
   "source": [
    "## Motor\n",
    "\n",
    "* [Motor overview](http://www.sardana-controls.org/en/latest/devel/overview/overview_motor.html#motor-overview)\n",
    "* [Motor API reference](http://www.sardana-controls.org/en/latest/devel/api/api_motor.html#sardana-motor-api)\n",
    "* [Tango Motor API reference](http://www.sardana-controls.org/en/latest/devel/api/sardana/tango/pool/Motor.html#sardana.tango.pool.Motor.Motor)"
   ]
  },
  {
   "cell_type": "markdown",
   "metadata": {
    "slideshow": {
     "slide_type": "subslide"
    }
   },
   "source": [
    "### Motor overview\n",
    "\n",
    "* Interface was designed with physical motors in mind\n",
    "* Interface is dynamic - only Position, State and Status attribute are mandatory\n",
    "* Motor can be anything that can be changed e.g. power supply fits to a motor as well"
   ]
  },
  {
   "cell_type": "markdown",
   "metadata": {
    "slideshow": {
     "slide_type": "subslide"
    }
   },
   "source": [
    "### Motor API reference\n",
    "\n",
    "* *position* and its relation with *dial position*, *offset* and *sign*\n",
    "* *dial position* and its relation with *steps per unit*\n",
    "* *state* and *limit switches*\n",
    "* *velocity*, *acceleration*, *deceleration* and *base rate*\n",
    "* *backlash* and *instability time*\n",
    "* operations: *start move*, *stop* and *abort*"
   ]
  },
  {
   "cell_type": "code",
   "execution_count": 6,
   "metadata": {
    "collapsed": false,
    "slideshow": {
     "slide_type": "fragment"
    }
   },
   "outputs": [
    {
     "name": "stdout",
     "output_type": "stream",
     "text": [
      "Position(\n",
      "       name = Position\n",
      "    manager = mot01\n",
      "       read = 0 at 2017-07-31 23:16:20.270655\n",
      "      write = -----)\n",
      "\n",
      "Position(\n",
      "       name = Position\n",
      "    manager = mot01\n",
      "       read = 20 at 2017-07-31 23:16:20.280088\n",
      "      write = 20 at 2017-07-31 23:16:20.279409)\n",
      "\n"
     ]
    }
   ],
   "source": [
    "from sardana.pool.test import BasePoolTestCase\n",
    "\n",
    "util = BasePoolTestCase()\n",
    "util.setUp()\n",
    "ctrl = util.createController(\"motctrl01\",\n",
    "                      \"FastDummyMotorController\",\n",
    "                      \"DummyMotorController.py\")\n",
    "mot = util.createMotorElement(ctrl, \"mot01\", 1)\n",
    "print mot.get_position()\n",
    "mot.start_move(20)\n",
    "print mot.get_position()\n",
    "util.tearDown()"
   ]
  },
  {
   "cell_type": "markdown",
   "metadata": {
    "slideshow": {
     "slide_type": "subslide"
    }
   },
   "source": [
    "### Tango Motor API\n",
    "\n",
    "* All the Motor API are also available in Tango Motor API\n",
    "* Extra interface\n",
    " * `DefinePosition` command\n",
    " * `MoveRelative` command \\*\n",
    " * `SaveConfig` command \\*\n",
    " * `SimulationMode` attribute \\* \n",
    " * `State` and `Limit_switches`events\n",
    " * `Position` events\n",
    " \n",
    "\\* Not implemented or not fully tested"
   ]
  },
  {
   "cell_type": "markdown",
   "metadata": {
    "collapsed": true,
    "slideshow": {
     "slide_type": "slide"
    }
   },
   "source": [
    "## Pseudo motor\n",
    "\n",
    "* [Pseudo motor overview](http://www.sardana-controls.org/en/latest/devel/overview/overview_pseudomotor.html)\n",
    "* [Pseudo motor API reference](http://www.sardana-controls.org/en/latest/devel/api/api_pseudomotor.html#sardana-pseudomotor-api)\n",
    "* [Tango pseudo motor API reference](http://www.sardana-controls.org/en/latest/devel/api/sardana/tango/pool/PseudoMotor.html#sardana.tango.pool.PseudoMotor.PseudoMotor)"
   ]
  },
  {
   "cell_type": "markdown",
   "metadata": {
    "slideshow": {
     "slide_type": "subslide"
    }
   },
   "source": [
    "### Pseudo motor overview\n",
    "* Abstraction layer to provide a motor-like interface on top of motor(s) + calculation\n",
    "* Example of a Slit pseudo motor\n",
    "* Container of motor(s) and its state is a composition of physical motors' states"
   ]
  },
  {
   "cell_type": "markdown",
   "metadata": {
    "slideshow": {
     "slide_type": "subslide"
    }
   },
   "source": [
    "### Pseudo motor API reference\n",
    "* TODO"
   ]
  },
  {
   "cell_type": "code",
   "execution_count": null,
   "metadata": {
    "collapsed": true,
    "slideshow": {
     "slide_type": "fragment"
    }
   },
   "outputs": [],
   "source": [
    "from sardana.pool.test import BasePoolTestCase\n",
    "\n",
    "util = BasePoolTestCase()\n",
    "util.setUp()\n",
    "mot_ctrl = util.createController(\"motctrl01\",\n",
    "                      \"FastDummyMotorController\",\n",
    "                      \"DummyMotorController.py\")\n",
    "left = util.createMotorElement(ctrl, \"mot01\", 1)\n",
    "right = util.createMotorElement(ctrl, \"mot02\", 2)\n",
    "slit_ctrl = util.createController(\"slitctrl01\",\n",
    "                                  \"Slit\",\n",
    "                                  \"Slit.py\")\n",
    "print mot.get_position()\n",
    "mot.start_move(20)\n",
    "print mot.get_position()\n",
    "util.tearDown()"
   ]
  }
 ],
 "metadata": {
  "celltoolbar": "Slideshow",
  "kernelspec": {
   "display_name": "Python 2",
   "language": "python",
   "name": "python2"
  },
  "language_info": {
   "codemirror_mode": {
    "name": "ipython",
    "version": 2
   },
   "file_extension": ".py",
   "mimetype": "text/x-python",
   "name": "python",
   "nbconvert_exporter": "python",
   "pygments_lexer": "ipython2",
   "version": "2.7.13"
  }
 },
 "nbformat": 4,
 "nbformat_minor": 2
}
