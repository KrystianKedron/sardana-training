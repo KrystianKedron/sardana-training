{
 "cells": [
  {
   "cell_type": "markdown",
   "metadata": {
    "slideshow": {
     "slide_type": "slide"
    }
   },
   "source": [
    "# Workshop about controllers"
   ]
  },
  {
   "cell_type": "markdown",
   "metadata": {
    "slideshow": {
     "slide_type": "slide"
    }
   },
   "source": [
    "## Controller\n",
    "* [Controller overview](http://www.sardana-controls.org/en/latest/devel/overview/overview_controller.html#sardana-controller-overview)\n",
    "* [Writing controllers](http://www.sardana-controls.org/en/latest/devel/howto_controllers/index.html)\n",
    "* [Controller API reference](http://www.sardana-controls.org/en/latest/devel/api/api_controller.html#sardana-controller-api)"
   ]
  },
  {
   "cell_type": "markdown",
   "metadata": {
    "slideshow": {
     "slide_type": "slide"
    }
   },
   "source": [
    "### Controller overview\n",
    "\n",
    "* Maps the communication between a pool element e.g. motor and the underlying hardware (example: a motor controller crate)\n",
    "* Element axis refers to the ID of a specific hardware object (like a motor) with respect to its controller"
   ]
  },
  {
   "cell_type": "markdown",
   "metadata": {
    "slideshow": {
     "slide_type": "slide"
    }
   },
   "source": [
    "### Writing controllers - common aspects"
   ]
  },
  {
   "cell_type": "markdown",
   "metadata": {
    "slideshow": {
     "slide_type": "fragment"
    }
   },
   "source": [
    "* Constructor\n",
    " * Called on: controllers creation, pool startup and controller's code reload\n",
    " * Accepts arguments: instance (TODO) and properties\n",
    " * If an exception is raised when constructing the controller, the controller automatically gets into the Fault state and its status describes the exception that occured"
   ]
  },
  {
   "cell_type": "markdown",
   "metadata": {
    "slideshow": {
     "slide_type": "fragment"
    }
   },
   "source": [
    "* AddDevice and DeleteDevice\n",
    " * Called on: element creation/deletion, pool start/stop and controller's code reload"
   ]
  },
  {
   "cell_type": "markdown",
   "metadata": {
    "slideshow": {
     "slide_type": "subslide"
    }
   },
   "source": [
    "### Writing controllers - common aspects"
   ]
  },
  {
   "cell_type": "markdown",
   "metadata": {
    "slideshow": {
     "slide_type": "fragment"
    }
   },
   "source": [
    "* Get axis state (State sequence)\n",
    " * Applies only to the to physical elements\n",
    " * Called on: state request, during operations e.g. motion, acquisition\n",
    " * Returns: state and status (in case of motor also returns limit switches)\n",
    " * If an exception is raised when reading the state, the axis automatically gets into the Fault state and the status contains the exception details."
   ]
  },
  {
   "cell_type": "markdown",
   "metadata": {
    "slideshow": {
     "slide_type": "fragment"
    }
   },
   "source": [
    "* Axis extra attributes - attributes that are not included in the standard inteface e.g. close loop for a motor\n",
    "* Controller extra attributes - attributes that are not included in the standard interface e.g. \n",
    "* Controller properties - similar to attributes but are foreseen for more static characteristics e.g. communication host and port"
   ]
  },
  {
   "cell_type": "markdown",
   "metadata": {
    "slideshow": {
     "slide_type": "slide"
    }
   },
   "source": [
    "### Synchronized start\n",
    "```\n",
    "/FOR/ Each controller(s) implied in the motion\n",
    "     - Call PreStartAll()\n",
    "/END FOR/\n",
    "/FOR/ Each motor(s) implied in the motion\n",
    "     - ret = PreStartOne(motor to move, new position)\n",
    "     - /IF/ ret is not true\n",
    "        /RAISE/ Cannot start. Motor PreStartOne returns False\n",
    "     - /END IF/\n",
    "     - Call StartOne(motor to move, new position)\n",
    "/END FOR/\n",
    "/FOR/ Each controller(s) implied in the motion\n",
    "     - Call StartAll()\n",
    "/END FOR/\n",
    "```"
   ]
  },
  {
   "cell_type": "markdown",
   "metadata": {
    "slideshow": {
     "slide_type": "subslide"
    }
   },
   "source": [
    "### Synchronized start\n",
    "\n",
    "[Single motor start sequence diagram](http://www.sardana-controls.org/en/latest/devel/api/api_motor.html#motion)"
   ]
  },
  {
   "cell_type": "markdown",
   "metadata": {
    "slideshow": {
     "slide_type": "slide"
    }
   },
   "source": [
    "### Optimized hardware access while reading multiple axes (also state)\n",
    "\n",
    "```\n",
    "/FOR/ Each controller(s) implied in the reading\n",
    "     - Call PreReadAll()\n",
    "/END FOR/\n",
    "/FOR/ Each motor(s) implied in the reading\n",
    "     - PreReadOne(motor to read)\n",
    "/END FOR/\n",
    "/FOR/ Each controller(s) implied in the reading\n",
    "     - Call ReadAll()\n",
    "/END FOR/\n",
    "/FOR/ Each motor(s) implied in the reading\n",
    "     - Call ReadOne(motor to read)\n",
    "/END FOR/\n",
    "```"
   ]
  },
  {
   "cell_type": "markdown",
   "metadata": {
    "slideshow": {
     "slide_type": "subslide"
    }
   },
   "source": [
    "### Optimized hardware access while reading multiple axes (also state)\n",
    "\n",
    "[Single motor read sequence diagram](http://www.sardana-controls.org/en/latest/devel/api/api_motor.html#motor-position)"
   ]
  },
  {
   "cell_type": "markdown",
   "metadata": {
    "slideshow": {
     "slide_type": "slide"
    }
   },
   "source": [
    "### [How to write motor controller](http://www.sardana-controls.org/en/latest/devel/howto_controllers/howto_motorcontroller.html)\n",
    "\n",
    "* Get motor state - `StateOne`:\n",
    " * return status of the limit switches (home, upper, lower)\n",
    " * should become Alarm if any of the overtravel limit switches becomes active - see discussion in [#507](https://github.com/sardana-org/sardana/issues/507)\n",
    "* Get motor position - `ReadOne`\n",
    " * return dial position (dial position = motor position / steps per unit)\n",
    "* Move a motor - `StartOne`:\n",
    " * Accepts argument: dial position (motor position = dial position * steps per unit)"
   ]
  },
  {
   "cell_type": "markdown",
   "metadata": {
    "slideshow": {
     "slide_type": "subslide"
    }
   },
   "source": [
    "### [How to write motor controller](http://www.sardana-controls.org/en/latest/devel/howto_controllers/howto_motorcontroller.html)\n",
    "\n",
    "* Stop a motor - `StopOne`:\n",
    " * Gracefully stop a motor (deceleration and base rate should be respected)\n",
    " * Stopping multiple axis with one command should be allowed - see [#157](https://github.com/sardana-org/sardana/issues/157)\n",
    "* Abort a motor - `AbortOne`:\n",
    " * Gracefully stop a motor (decelration and base rate should be respected)\n",
    " * Aborting multiple axis with one command should be allowed - see [#157](https://github.com/sardana-org/sardana/issues/157)\n",
    "* Standard axis attributes - `SetAxisPar` and `GetAxisPar`\n",
    "  * acceleration, deceleration, velocity, base rate and steps per unit\n",
    "  * some combinations of parameters may not be coherent what to do then - see [#30](https://github.com/sardana-org/sardana/issues/30) and [#420](https://github.com/sardana-org/sardana/pull/420)"
   ]
  },
  {
   "cell_type": "markdown",
   "metadata": {
    "slideshow": {
     "slide_type": "subslide"
    }
   },
   "source": [
    "### [How to write motor controller](http://www.sardana-controls.org/en/latest/devel/howto_controllers/howto_motorcontroller.html)\n",
    "\n",
    "* Define motor position - `DefinePosition`:\n",
    " * Loads the new motor position to the hardware\n",
    "* Advanced topics:\n",
    " * Timestamp read position - return `SardanaValue` object\n",
    "* Examples: IcePAP, Pmac, Tango attribute"
   ]
  },
  {
   "cell_type": "markdown",
   "metadata": {
    "slideshow": {
     "slide_type": "subslide"
    }
   },
   "source": [
    "### Example - XYZ Stage"
   ]
  },
  {
   "cell_type": "markdown",
   "metadata": {
    "slideshow": {
     "slide_type": "slide"
    }
   },
   "source": [
    "### [How to write pseudo motor controller](http://www.sardana-controls.org/en/latest/devel/howto_controllers/howto_pseudomotorcontroller.html)\n",
    "\n",
    "* Define class members `pseudo_motor_roles` and `motor_roles`\n",
    " * Some use cases (advanced), for example HKL, may require dynamic roles - see [#86](https://github.com/sardana-org/sardana/issues/86)\n",
    "* Calculate pseudo motor position - `CalcPseudo`\n",
    " * Accepts: axis, physical motor positions and the current pseudo motor positions as arguments\n",
    " * Returns calculated pseudo motor position\n",
    " * The current pseudo motor positions that arrives to `CalcPseudo` are set values and not read values TODO\n",
    "* Calculate physical motor position - `CalcPhysical`\n",
    " * Accepts: pseudo motor positions and the current physical motor positions as arguments\n",
    " * Returns calculated physical motor position\n",
    "* If great performance gain can be achived it is possible to use `CalcAllPseudo` and `CalcAllPhysical` methods\n",
    " * The default implementation iterates over axes and call the `CalcPseudo` and `CalcPhysical` methods multiple times\n",
    "* Examples: Mirrors, ID, Tables, Energy, Twin motors"
   ]
  },
  {
   "cell_type": "markdown",
   "metadata": {
    "slideshow": {
     "slide_type": "subslide"
    }
   },
   "source": [
    "#### Example: Mirrors pseudo motors\n",
    "\n",
    "* [TwoLeggedTable](https://sourceforge.net/p/sardana/controllers.git/ci/master/tree/python/pseudomotor/ALBA_BL_COMMON/AlbaBlTwoLeggedTablePseudomotor.py)\n",
    "\n"
   ]
  },
  {
   "cell_type": "markdown",
   "metadata": {
    "slideshow": {
     "slide_type": "slide"
    }
   },
   "source": [
    "### CT controller\n",
    "\n",
    "* [How to](http://www.sardana-controls.org/en/latest/devel/howto_controllers/howto_countertimercontroller.html)\n",
    "\n",
    "* Uses at ALBA:\n",
    " * Electromiter\n",
    " * AdLinks\n",
    " * NI\n",
    " * Lima, Lima ROI"
   ]
  },
  {
   "cell_type": "markdown",
   "metadata": {
    "slideshow": {
     "slide_type": "subslide"
    }
   },
   "source": [
    "#### Example:\n",
    "\n",
    "* [Network traffic](https://sourceforge.net/p/sardana/wiki/Howto-CreateControllers/attachment/myctctrl.py)\n"
   ]
  },
  {
   "cell_type": "markdown",
   "metadata": {
    "slideshow": {
     "slide_type": "slide"
    }
   },
   "source": [
    "### Pseudo CT controller\n",
    "\n",
    "* [How to](http://www.sardana-controls.org/en/latest/devel/howto_controllers/howto_pseudocountercontroller.html)\n",
    "\n",
    "* Uses at ALBA:\n",
    " * IK\n",
    " * IoverI0"
   ]
  },
  {
   "cell_type": "markdown",
   "metadata": {
    "slideshow": {
     "slide_type": "slide"
    }
   },
   "source": [
    "### Packaging installation at ALBA\n",
    "\n",
    "The controllers are defined at three levels:\n",
    "\n",
    "* Production: installed via packages\n",
    "* Development: getting it from repositories check out\n",
    "* User: created by the users (in a shared folder)\n",
    "\n",
    "All of them are defined in the PoolPath property.\n",
    "\n",
    "#### Now (opensuse)\n",
    "``` \n",
    "/beamlines/bl22/controls/user_ctrls  # Users\n",
    "/beamlines/bl22/controls/devel/poolcontrollers # Development\n",
    "/homelocal/sicilia/lib/python/site-packages/poolcontrollers # Package\n",
    "/homelocal/sicilia/lib/python/site-packages/poolcontrollers/IcePAPCtrl\n",
    "/homelocal/sicilia/lib/python/site-packages/poolcontrollers/IBACtrl\n",
    "```\n",
    "#### Future (debian)\n",
    "```\n",
    "/beamlines/bl22/controls/user_ctrls # Users\n",
    "/beamlines/bl22/controls/devel/poolcontrollers # Development\n",
    "/usr/lib/sardana/poolcontrollers # Package\n",
    "/usr/lib/sardana/poolcontrollers/IcePAPCtrl\n",
    "/usr/lib/sardana/poolcontrollers/IBACtrl\n",
    "```\n"
   ]
  },
  {
   "cell_type": "markdown",
   "metadata": {
    "slideshow": {
     "slide_type": "slide"
    }
   },
   "source": [
    "## Good/bad practices\n",
    "\n"
   ]
  },
  {
   "cell_type": "markdown",
   "metadata": {
    "slideshow": {
     "slide_type": "slide"
    }
   },
   "source": [
    "### Use of taurus vs. use of PyTango\n",
    "\n",
    "#### Pros Taurus\n",
    "\n",
    "* More friendly API\n",
    "* To take care with the pythonic read/write\n",
    "\n",
    "#### Pros PyTango\n",
    "\n",
    "* Light weigh\n",
    "* Access to full Tango API (e.g. Device states)\n",
    "* Allow pythonic read/write (e.g. device[attribute] = value)\n",
    "\n",
    "TODO\n"
   ]
  },
  {
   "cell_type": "markdown",
   "metadata": {
    "slideshow": {
     "slide_type": "slide"
    }
   },
   "source": [
    "### Using external libraries\n",
    "\n",
    "The pool allows to use external libraries (not defined in the `$PYTHONPATH`) via its `PYTHONPATH` \n",
    "property. This libraries  will have more preference that the system ones. \n",
    " "
   ]
  },
  {
   "cell_type": "markdown",
   "metadata": {
    "slideshow": {
     "slide_type": "slide"
    }
   },
   "source": [
    "### Class inheritance\n",
    "\n",
    "The controller inheritance is allowed in Sardana, with some limitations. If all clasess are loaded from the same path (as controllers) the sardana controller manager can fail loading the subclasess due to precedence troubles.\n",
    "\n",
    "#### Examples:\n",
    "* [TurboPmacController](https://sourceforge.net/p/sardana/controllers.git/ci/master/tree/python/motor/PmacCtrl/TurboPmacCtrl.py)(Controller)\n",
    " * [LtpTurboPmacController](https://sourceforge.net/p/sardana/controllers.git/ci/master/tree/python/motor/PmacCtrl/AlbaLtpTurboPmacCtrl.py)(Controller)\n",
    "\n",
    "* [Ni660XCtrl](https://sourceforge.net/p/sardana/controllers.git/ci/master/tree/python/countertimer/Ni660XCtrl/Ni660XCTCtrl.py)(Base class) \n",
    " * [Ni660XPositionCTCtrl](https://sourceforge.net/p/sardana/controllers.git/ci/master/tree/python/countertimer/Ni660XCtrl/Ni660XPositionCTCtrl.py)(Controller)\n",
    " *[Ni660XCounterCTCtrl](https://sourceforge.net/p/sardana/controllers.git/ci/master/tree/python/countertimer/Ni660XCtrl/Ni660XCounterCTCtrl.py)(Controller)\n",
    " * [Ni660XPulseWidthCTCtrl.py ](https://sourceforge.net/p/sardana/controllers.git/ci/master/tree/python/countertimer/Ni660XCtrl/Ni660XPulseWidthCTCtrl.py)(Controller)"
   ]
  },
  {
   "cell_type": "markdown",
   "metadata": {
    "slideshow": {
     "slide_type": "slide"
    }
   },
   "source": [
    "### What to do and not to do in the controller\n",
    "\n",
    "TODO"
   ]
  }
 ],
 "metadata": {
  "celltoolbar": "Slideshow",
  "kernelspec": {
   "display_name": "Python 2",
   "language": "python",
   "name": "python2"
  },
  "language_info": {
   "codemirror_mode": {
    "name": "ipython",
    "version": 2
   },
   "file_extension": ".py",
   "mimetype": "text/x-python",
   "name": "python",
   "nbconvert_exporter": "python",
   "pygments_lexer": "ipython2",
   "version": "2.7.13"
  }
 },
 "nbformat": 4,
 "nbformat_minor": 2
}
