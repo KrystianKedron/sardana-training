{
 "cells": [
  {
   "cell_type": "markdown",
   "metadata": {
    "slideshow": {
     "slide_type": "slide"
    }
   },
   "source": [
    "# MACROS"
   ]
  },
  {
   "cell_type": "markdown",
   "metadata": {
    "slideshow": {
     "slide_type": "slide"
    }
   },
   "source": [
    "## MACROS\n",
    "\n",
    "# Asynchronous Motion and Acquisition"
   ]
  },
  {
   "cell_type": "markdown",
   "metadata": {
    "slideshow": {
     "slide_type": "subslide"
    }
   },
   "source": [
    "### Macros: Asynchronous Motion and Acquisition\n",
    "\n",
    "### Feature Description\n",
    "\n",
    "* From a macro, allow:\n",
    " * To launch a motion/acquisition\n",
    " * To perform an action while the motion/acquisition is still happening (asynchronized)\n",
    " * To perform some other action once the motion/acquisition has finished (synchronized with the end of the motion/acquisition) \n",
    " "
   ]
  },
  {
   "cell_type": "markdown",
   "metadata": {
    "slideshow": {
     "slide_type": "subslide"
    }
   },
   "source": [
    "### Macros: Asynchronous Motion and Acquisition\n",
    "\n",
    "### Where in the code?\n"
   ]
  },
  {
   "cell_type": "markdown",
   "metadata": {
    "slideshow": {
     "slide_type": "subslide"
    }
   },
   "source": [
    "### Macros: Asynchronous Motion and Acquisition\n",
    "\n",
    "### Simple Example"
   ]
  },
  {
   "cell_type": "markdown",
   "metadata": {
    "slideshow": {
     "slide_type": "subslide"
    }
   },
   "source": [
    "### Macros: Asynchronous Motion and Acquisition\n",
    "\n",
    "### Real Application"
   ]
  },
  {
   "cell_type": "markdown",
   "metadata": {
    "slideshow": {
     "slide_type": "slide"
    }
   },
   "source": [
    "## MACROS\n",
    "\n",
    "\n",
    "# Repeat Parameters"
   ]
  },
  {
   "cell_type": "markdown",
   "metadata": {
    "collapsed": true,
    "slideshow": {
     "slide_type": "subslide"
    }
   },
   "source": [
    "### Macros: Repeat Parameters\n",
    "\n",
    "### Feature Description\n",
    "\n",
    "* Features of parameter repetion in macros:\n",
    " * Multiple repetitions of a single parameter are allowed\n",
    " * Multiple repetitions of groups of parameters are allowed\n",
    " * Multiple repetitions of nested groups of parameters are allowed\n",
    " * Parameters in all positions can be repeated\n",
    " * New interface for parameter repetition using square brackets\n",
    " * Default value used if no element present inside the square brakets"
   ]
  },
  {
   "cell_type": "markdown",
   "metadata": {
    "collapsed": true,
    "slideshow": {
     "slide_type": "subslide"
    }
   },
   "source": [
    "### Macros: Repeat Parameters\n",
    "\n",
    "### Where in the code?\n",
    "\n",
    "\n",
    "* Spock parsing of parameters:\n",
    "\n",
    "[`sardana.spock.parser.py`](https://github.com/sardana-org/sardana/blob/develop/src/sardana/spock/parser.py) (class **ParamParser**)\n",
    "\n",
    "[`sardana/spock/spockms.py`](https://github.com/sardana-org/sardana/blob/develop/src/sardana/spock/spockms.py) (function **split_macro_parameters**)\n",
    "\n",
    "\n",
    "* RepeatParamNode and RepeatNode:\n",
    "\n",
    "[`sardana/taurus/core/tango/sardana/macro.py`](https://github.com/sardana-org/sardana/blob/develop/src/sardana/taurus/core/tango/sardana/macro.py) (class **RepeatParamNode**)\n",
    "\n",
    "[`sardana/taurus/core/tango/sardana/macroserver.py`](https://github.com/sardana-org/sardana/blob/develop/src/sardana/taurus/core/tango/sardana/macroserver.py) (method **validateRepeatParam**)\n",
    "\n",
    "\n",
    "* Macroexecutor: Duplicate action\n",
    "\n",
    "[`sardana/taurus/qt/qtgui/extra_macroexecutor/macroparameterseditor/macroparameterseditor.py`](https://github.com/sardana-org/sardana/blob/develop/src/sardana/taurus/qt/qtgui/extra_macroexecutor/macroparameterseditor/macroparameterseditor.py) (QAction **duplicateAction**)"
   ]
  },
  {
   "cell_type": "markdown",
   "metadata": {
    "collapsed": true,
    "slideshow": {
     "slide_type": "subslide"
    }
   },
   "source": [
    "### Macros: Repeat Parameters\n",
    "\n",
    "### Simple Example\n",
    "\n",
    "\n",
    "Simple examples of Repeat Parameters usage can be found on the macro examples. Many examples presenting Repeat Parameters are also present in this Sardana python module.\n",
    "\n",
    "[`sardana/macroserver/macros/examples/parameters.py`](https://github.com/sardana-org/sardana/blob/develop/src/sardana/macroserver/macros/examples/parameters.py)\n",
    "\n",
    "---\n",
    "\n",
    "* Example: macro pt7 presents a **repeat parameter** containing a motor and a position for each repetition:"
   ]
  },
  {
   "cell_type": "code",
   "execution_count": 3,
   "metadata": {
    "collapsed": false,
    "slideshow": {
     "slide_type": "fragment"
    }
   },
   "outputs": [],
   "source": [
    "import mock\n",
    "Type = mock.MagicMock()\n",
    "\n",
    "from sardana.macroserver.macro import Macro\n",
    "\n",
    "class pt7(Macro):\n",
    "    \"\"\"Macro with a list of pair Motor,Float.\n",
    "    Usages from Spock, ex.:\n",
    "    pt7 [[mot1 1] [mot2 3]]\n",
    "    pt7 mot1 1 mot2 3\n",
    "    \"\"\"\n",
    "\n",
    "    param_def = [\n",
    "        ['m_p_pair', [['motor', Type.Motor, None, 'Motor to move'],\n",
    "                      ['pos',   Type.Float, None, 'Position to move to']],\n",
    "         None, 'List of motor/position pairs']\n",
    "    ]\n",
    "\n",
    "    def run(self, *args, **kwargs):\n",
    "        pass"
   ]
  },
  {
   "cell_type": "markdown",
   "metadata": {
    "collapsed": true,
    "slideshow": {
     "slide_type": "subslide"
    }
   },
   "source": [
    "### Macros: Repeat Parameters\n",
    "\n",
    "### Real Application\n",
    "\n",
    "* BL09 @ ALBA\n",
    "\n",
    "* Requirements \n",
    " * Generation of collect script for TXM Microscope \n",
    " * Many groups of parameters with few changes in numeric values\n",
    " * Collection of images for: many lenses position - many angles - many energies \n",
    "\n",
    "* Solution: \n",
    " * Macro **manytomos** launched from macroexecutor\n",
    " * Usage of nested repeat parameters\n",
    " * Macroexecutor group duplication option\n",
    "\n",
    "* Code:\n",
    " * (TODO) https://git.cells.es/controls/bl09_collect_macros/blob/master/macros/manytomos.py (TODO)\n"
   ]
  },
  {
   "cell_type": "markdown",
   "metadata": {
    "collapsed": true,
    "slideshow": {
     "slide_type": "subslide"
    }
   },
   "source": [
    "**manytomos** macro in MacroExecutor\n",
    "\n",
    "![alt text](manytomos.jpeg \"Repeat Parameters and Duplicate Group in Macroexecutor\")\n"
   ]
  },
  {
   "cell_type": "markdown",
   "metadata": {
    "slideshow": {
     "slide_type": "slide"
    }
   },
   "source": [
    "## MACROS\n",
    "\n",
    "# GSF: Generic Scan Framework"
   ]
  },
  {
   "cell_type": "markdown",
   "metadata": {
    "collapsed": true,
    "slideshow": {
     "slide_type": "subslide"
    }
   },
   "source": [
    "### Macros: Generic Scan Framework (GSF)\n",
    "\n",
    "### Feature Description\n",
    "\n",
    "* The generic scan framework allows to generate custom made scans\n",
    "* It allow to generate arbitrary number of points, regions, etc. \n",
    "* It allows to generate scans with heterogeneous patterns in scan points and intervals\n",
    "* The rest of the scans, inherits from the this **GScan** generic scan.\n"
   ]
  },
  {
   "cell_type": "markdown",
   "metadata": {
    "collapsed": true,
    "slideshow": {
     "slide_type": "subslide"
    }
   },
   "source": [
    "### Macros: Generic Scan Framework (GSF)\n",
    "\n",
    "### Where in the code?\n",
    "\n",
    "\n",
    " * In class **GScan** from scan.py\n",
    " [`sardana.macroserver.scan.gscan.py`](https://github.com/sardana-org/sardana/blob/develop/src/sardana/macroserver/scan/gscan.py)"
   ]
  },
  {
   "cell_type": "markdown",
   "metadata": {
    "collapsed": true,
    "slideshow": {
     "slide_type": "subslide"
    }
   },
   "source": [
    "### Macros: Generic Scan Framework (GSF)\n",
    "\n",
    "### Simple Example\n",
    "\n",
    "The following command executes a region scan in spock:\n",
    "*regscan movable integration_time start_position [[next_position  n_intervals]]*\n",
    "\n",
    "```\n",
    "%regscan dummymotor01 0.1 2 [[3 5] [10 7]]\n",
    "```\n",
    "\n",
    "* The presented scan:\n",
    " * Has an integration time of 0.1 seconds\n",
    " * It begins at position 2.\n",
    " * It has 5 intervals between position 2 and position 3\n",
    " * It has 7 intervals between position 3 and position 10\n",
    " * A total of 13 points are taken\n",
    " \n",
    " \n",
    "* Macro **regscan**\n",
    " [`sardana/macroserver/macros/examples/scans.py`](https://github.com/sardana-org/sardana/blob/develop/src/sardana/macroserver/macros/examples/scans.py) "
   ]
  },
  {
   "cell_type": "markdown",
   "metadata": {
    "collapsed": true,
    "slideshow": {
     "slide_type": "subslide"
    }
   },
   "source": [
    "### Macros: Generic Scan Framework (GSF)\n",
    "\n",
    "### Real Application\n",
    "\n",
    "* BL22 @ ALBA\n",
    "\n",
    "\n",
    "\n",
    "* **Macro constKscan:**\n",
    "This Macro performs an Energy Scan using the GSF with NON equidistant distances in each of the intervals. The objective is to get an absorption spectrum as output. The scan collects more points near to the spectrum peaks and it increases the integration time as the energy increases.\n",
    "\n",
    "\n",
    "\n",
    "* The **constKscan** code can be found here:\n",
    "[`ALBA_BL22_CLAESS/bl22scans.py`](https://sourceforge.net/p/sardana/macros.git/ci/master/tree/ALBA_BL22_CLAESS/bl22scans.py)\n"
   ]
  },
  {
   "cell_type": "markdown",
   "metadata": {
    "slideshow": {
     "slide_type": "slide"
    }
   },
   "source": [
    "## MACROS\n",
    "\n",
    "# Hooks\n"
   ]
  },
  {
   "cell_type": "markdown",
   "metadata": {
    "collapsed": true,
    "slideshow": {
     "slide_type": "subslide"
    }
   },
   "source": [
    "### Macros: Hooks\n",
    "\n",
    "### Feature Description\n",
    "\n",
    "\n",
    "* Hooks are used to insert code at specific locations within the macro\n",
    "* The following kind of hooks exists for the scans:\n",
    " * pre-scan\n",
    " * pre-move\n",
    " * post-move\n",
    " * pre-acq\n",
    " * post-acq\n",
    " * post-step\n",
    " * post-scan\n",
    "* Customized hooks can be created"
   ]
  },
  {
   "cell_type": "markdown",
   "metadata": {
    "collapsed": true,
    "slideshow": {
     "slide_type": "subslide"
    }
   },
   "source": [
    "### Macros: Hooks\n",
    "\n",
    "### Where in the code?\n",
    "\n",
    "\n",
    " * In class **Hookable** from macro.py; method: **hooks**:\n",
    "  * [`sardana.macroserver.macros.macro.py`](https://github.com/sardana-org/sardana/blob/develop/src/sardana/macroserver/macros/macro.py)\n",
    " \n",
    " \n",
    " \n",
    " \n",
    " * Hooks defined along the scans:\n",
    "  * [`sardana.macroserver.scan.gscan.py`](https://github.com/sardana-org/sardana/blob/develop/src/sardana/macroserver/scan/gscan.py)"
   ]
  },
  {
   "cell_type": "markdown",
   "metadata": {
    "collapsed": true,
    "slideshow": {
     "slide_type": "subslide"
    }
   },
   "source": [
    "### Macros: Hooks\n",
    "\n",
    "### Simple Example\n",
    "\n",
    "* The macro **hooked_scan** from the Sardana macro examples, shows how hooks can be included in different locations of the macro execution:\n",
    " * [`sardana/macroserver/macros/examples/hooks.py`](https://github.com/sardana-org/sardana/blob/develop/src/sardana/macroserver/macros/examples/hooks.py)\n",
    " \n",
    "\n",
    "\n",
    "\n",
    "* More examples can also be found in the same python module  [`sardana/macroserver/macros/examples/hooks.py`](https://github.com/sardana-org/sardana/blob/develop/src/sardana/macroserver/macros/examples/hooks.py)"
   ]
  },
  {
   "cell_type": "markdown",
   "metadata": {
    "collapsed": true,
    "slideshow": {
     "slide_type": "subslide"
    }
   },
   "source": [
    "### Macros: Hooks\n",
    "\n",
    "### Real Application\n",
    "\n",
    "* BL22 @ ALBA\n",
    "\n",
    "* Macro **qExafs** which inherits from class **BL22qExafs**. In method **run_scan**\n",
    "\n",
    "* [`ALBA_BL22_CLAESS/bl22scans.py`](https://sourceforge.net/p/sardana/macros.git/ci/master/tree/ALBA_BL22_CLAESS/bl22scans.py)\n",
    "\n",
    "* **qExafs** macro uses many different scan hooks:\n",
    " * pre_configure_hook\n",
    " * post_configure_hook\n",
    " * pre_start_hook\n",
    " * post_move_hook\n",
    " * cleanup\n",
    "\n",
    "\n",
    " \n"
   ]
  },
  {
   "cell_type": "markdown",
   "metadata": {
    "slideshow": {
     "slide_type": "slide"
    }
   },
   "source": [
    "### MACROS\n",
    "\n",
    "### Rocking curve fitting and go to peak"
   ]
  },
  {
   "cell_type": "markdown",
   "metadata": {
    "collapsed": true,
    "slideshow": {
     "slide_type": "subslide"
    }
   },
   "source": [
    "### Macros: Rocking curve fitting and go to peak\n",
    "\n",
    "### Feature Description\n",
    "\n",
    "* Requirement:\n",
    " * Obtain the data output from a macro\n",
    " * Use this data in another macro\n",
    "\n",
    "* How to satisfy the requirement:\n",
    " * Sardana can obtain the data from the Door\n",
    " * The data of the last executed macro is available: attribute *Output* of the Door\n",
    " \n",
    "\n"
   ]
  },
  {
   "cell_type": "markdown",
   "metadata": {
    "collapsed": true,
    "slideshow": {
     "slide_type": "subslide"
    }
   },
   "source": [
    "### Macros: Rocking curve fitting and go to peak\n",
    "\n",
    "### Where in the code?\n",
    "\n",
    "* From a macro, the following methods can be used to execute another macro, and get its output data:\n",
    "\n",
    " * In class **Macro** from macro.py: methods **execMacro**, **getData** and **getResult**\n",
    " [`sardana.macroserver.macro.py`](https://github.com/sardana-org/sardana/blob/develop/src/sardana/macroserver/macro.py)"
   ]
  },
  {
   "cell_type": "markdown",
   "metadata": {
    "collapsed": true,
    "slideshow": {
     "slide_type": "subslide"
    }
   },
   "source": [
    "### Macros: Rocking curve fitting and go to peak\n",
    "\n",
    "### Real Application\n",
    "\n",
    "* BL01 @ ALBA\n",
    " * Beamline mirror alignment in order to get the maximum intensity in the microscope\n",
    "\n",
    "\n",
    "* Macros involved:\n",
    " * **Perform a scan** by moving the a motor of the matching unit\n",
    " * **get_peak Macro:** Perform a Gaussian fit with the data of the scan: \n",
    " * **go_peak Macro:** Go to the peak of the Gaussian curve by getting the output of get_peak macro\n",
    "\n",
    "\n",
    "* Code:\n",
    "(TODO) https://git.cells.es/controls/bl01_macros/blob/master/bl01_macros.py (class get_peak(Macro)) (TODO)"
   ]
  },
  {
   "cell_type": "code",
   "execution_count": 4,
   "metadata": {
    "collapsed": true,
    "slideshow": {
     "slide_type": "fragment"
    }
   },
   "outputs": [],
   "source": [
    "class go_peak(Macro):\n",
    "    \"\"\"\n",
    "        Macro to move the motor to the position of  the latest scan peak.\n",
    "    Optional parameters:\n",
    "        - motor name (by default the motor involved in the latest scan)\n",
    "    \"\"\"\n",
    "\n",
    "    param_def = [\n",
    "        ['apply_fit',  Type.Integer,  0, 'Apply fit'],\n",
    "        ['scan_id',  Type.Integer,  -1, 'Scan id'],\n",
    "        ['mot_name', Type.String, \"None\", 'Motor name to move'],\n",
    "    ]\n",
    "\n",
    "    def run(self, apply_fit, scan_id, mot_name):\n",
    "        if mot_name == \"None\":\n",
    "            scan_id = self.getEnv(\"ScanID\")\n",
    "            scan_dir = self.getEnv(\"ScanDir\")\n",
    "            scan_file = self.getEnv(\"ScanFile\")[0]\n",
    "            file_name = os.path.join(scan_dir, scan_file)\n",
    "            spec = SpecData(file_name)\n",
    "            scan_obj = spec.get_scan(scan_id)\n",
    "            labels = scan_obj.getLabels()\n",
    "            mot_name = labels[1] # Motor by default is in second position\n",
    "        macro = self.execMacro('get_peak {0} {1}'.format(apply_fit, scan_id))\n",
    "        _, pos = macro.getResult()\n",
    "        mot = self.getMoveable(mot_name)\n",
    "        #self.mv(mot_name, pos)\n",
    "        self.output('Moving motor {0} to position {1}'.format(mot_name, pos))\n",
    "        mot.move(pos)"
   ]
  },
  {
   "cell_type": "markdown",
   "metadata": {
    "slideshow": {
     "slide_type": "slide"
    }
   },
   "source": [
    "# MACROS\n",
    "\n",
    "# Custom Recorders"
   ]
  },
  {
   "cell_type": "markdown",
   "metadata": {
    "collapsed": true,
    "slideshow": {
     "slide_type": "subslide"
    }
   },
   "source": [
    "# Macros: Custom Recorders\n",
    "\n",
    "# Feature Description\n",
    "\n",
    "* Requirement:\n",
    " * Create Custom Recorders"
   ]
  },
  {
   "cell_type": "markdown",
   "metadata": {
    "collapsed": true,
    "slideshow": {
     "slide_type": "subslide"
    }
   },
   "source": [
    "# Macros: Custom Recorders\n",
    "\n",
    "# Where in the code?"
   ]
  },
  {
   "cell_type": "markdown",
   "metadata": {
    "collapsed": true,
    "slideshow": {
     "slide_type": "subslide"
    }
   },
   "source": [
    "# Macros: Custom Recorders\n",
    "\n",
    "# Simple Example"
   ]
  },
  {
   "cell_type": "markdown",
   "metadata": {
    "collapsed": true,
    "slideshow": {
     "slide_type": "subslide"
    }
   },
   "source": [
    "# Macros: Custom Recorders\n",
    "\n",
    "# Real Application"
   ]
  }
 ],
 "metadata": {
  "celltoolbar": "Slideshow",
  "kernelspec": {
   "display_name": "Python 2",
   "language": "python",
   "name": "python2"
  },
  "language_info": {
   "codemirror_mode": {
    "name": "ipython",
    "version": 2
   },
   "file_extension": ".py",
   "mimetype": "text/x-python",
   "name": "python",
   "nbconvert_exporter": "python",
   "pygments_lexer": "ipython2",
   "version": "2.7.13"
  }
 },
 "nbformat": 4,
 "nbformat_minor": 2
}
