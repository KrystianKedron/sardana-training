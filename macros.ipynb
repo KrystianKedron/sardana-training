{
 "cells": [
  {
   "cell_type": "markdown",
   "metadata": {
    "slideshow": {
     "slide_type": "slide"
    }
   },
   "source": [
    "# MACROS"
   ]
  },
  {
   "cell_type": "markdown",
   "metadata": {
    "slideshow": {
     "slide_type": "slide"
    }
   },
   "source": [
    "## MACROS\n",
    "\n",
    "# Asynchronous Motion and Acquisition"
   ]
  },
  {
   "cell_type": "markdown",
   "metadata": {
    "slideshow": {
     "slide_type": "subslide"
    }
   },
   "source": [
    "## Macros: Asynchronous Motion and Acquisition\n",
    "\n",
    "# Feature Description"
   ]
  },
  {
   "cell_type": "markdown",
   "metadata": {
    "slideshow": {
     "slide_type": "subslide"
    }
   },
   "source": [
    "## Macros: Asynchronous Motion and Acquisition\n",
    "\n",
    "# Where in the code?\n"
   ]
  },
  {
   "cell_type": "markdown",
   "metadata": {
    "slideshow": {
     "slide_type": "subslide"
    }
   },
   "source": [
    "## Macros: Asynchronous Motion and Acquisition\n",
    "\n",
    "# Simple Example"
   ]
  },
  {
   "cell_type": "markdown",
   "metadata": {
    "slideshow": {
     "slide_type": "subslide"
    }
   },
   "source": [
    "## Macros: Asynchronous Motion and Acquisition\n",
    "\n",
    "# Real Application"
   ]
  },
  {
   "cell_type": "markdown",
   "metadata": {
    "slideshow": {
     "slide_type": "slide"
    }
   },
   "source": [
    "# MACROS\n",
    "\n",
    "\n",
    "# Repeat Parameters"
   ]
  },
  {
   "cell_type": "markdown",
   "metadata": {
    "collapsed": true,
    "slideshow": {
     "slide_type": "subslide"
    }
   },
   "source": [
    "### Macros: Repeat Parameters\n",
    "\n",
    "### Feature Description\n",
    "\n",
    "* On a single allow to pass as parameters:\n",
    " * Multiple repetitions of a single parameter\n",
    " * Multiple repetitions of groups of parameters\n",
    " * Multiple repetitions of nested groups of parameters\n",
    "\n",
    "* Before:\n",
    " * Only last group of parameters could be repeated\n",
    " * Repetitions of nested parameters were not allowed\n",
    " * No brackets used\n",
    " \n",
    "* Now:\n",
    " * Parameters in all positions can be repeated\n",
    " * Repetitions of nested parameter are allowed\n",
    " * New interface using square brackets\n",
    " * Default value used if no element present inside the square brakets"
   ]
  },
  {
   "cell_type": "markdown",
   "metadata": {
    "collapsed": true,
    "slideshow": {
     "slide_type": "subslide"
    }
   },
   "source": [
    "### Macros: Repeat Parameters\n",
    "\n",
    "### Where in the code?\n",
    "\n",
    "\n",
    "* Spock parsing of parameters:\n",
    "\n",
    "https://github.com/sardana-org/sardana/blob/develop/src/sardana/spock/parser.py#L61\n",
    "\n",
    "https://github.com/sardana-org/sardana/blob/develop/src/sardana/spock/spockms.py#L622\n",
    "\n",
    "\n",
    "* RepeatParamNode and RepeatNode:\n",
    "\n",
    "https://github.com/sardana-org/sardana/blob/develop/src/sardana/taurus/core/tango/sardana/macro.py#L570\n",
    "\n",
    "https://github.com/sardana-org/sardana/blob/develop/src/sardana/taurus/core/tango/sardana/macroserver.py#L1074\n",
    "\n",
    "\n",
    "* Macroexecutor: Duplicate action\n",
    "\n",
    "https://github.com/sardana-org/sardana/blob/develop/src/sardana/taurus/qt/qtgui/extra_macroexecutor/macroparameterseditor/macroparameterseditor.py#L146\n",
    "\n"
   ]
  },
  {
   "cell_type": "markdown",
   "metadata": {
    "collapsed": true,
    "slideshow": {
     "slide_type": "subslide"
    }
   },
   "source": [
    "### Macros: Repeat Parameters\n",
    "\n",
    "### Simple Example\n",
    "\n",
    "\n",
    "Simple examples of Repeat Parameters usage can be found on the macro examples:\n",
    "\n",
    "http://www.sardana-controls.org/en/latest/devel/examples/macro_parameter_examples.html#sardana-devel-macro-parameter-examples\n",
    "\n",
    "---\n",
    "\n",
    "* Example: macro pt7 presents a **repeat parameter** containing a motor and a position for each repetition:\n",
    "\n",
    "```\n",
    "class pt7(Macro):\n",
    "    \"\"\"Macro with a list of pair Motor,Float.\n",
    "    Usages from Spock, ex.:\n",
    "    pt7 [[mot1 1] [mot2 3]]\n",
    "    pt7 mot1 1 mot2 3\n",
    "    \"\"\"\n",
    "\n",
    "    param_def = [\n",
    "        ['m_p_pair', [['motor', Type.Motor, None, 'Motor to move'],\n",
    "                      ['pos',   Type.Float, None, 'Position to move to']],\n",
    "         None, 'List of motor/position pairs']\n",
    "    ]\n",
    "\n",
    "    def run(self, *args, **kwargs):\n",
    "        pass\n",
    "```"
   ]
  },
  {
   "cell_type": "markdown",
   "metadata": {
    "collapsed": true,
    "slideshow": {
     "slide_type": "subslide"
    }
   },
   "source": [
    "### Macros: Repeat Parameters\n",
    "\n",
    "### Real Application\n",
    "\n",
    "* Needs \n",
    " * Generation of collect script for TXM Microscope \n",
    " * Many groups of parameters with few changes in numeric values\n",
    " * Collection of images for: many lenses position - many angles - many energies \n",
    "\n",
    "* Solution: \n",
    " * Macro **manytomos** launched from macroexecutor\n",
    " * Usage of nested repeat parameters\n",
    " * Macroexecutor group duplication option\n",
    "\n",
    "* Code:\n",
    " * https://git.cells.es/controls/bl09_collect_macros/blob/master/macros/manytomos.py#L61\n"
   ]
  },
  {
   "cell_type": "markdown",
   "metadata": {
    "collapsed": true,
    "slideshow": {
     "slide_type": "subslide"
    }
   },
   "source": [
    "**manytomos** macro in MacroExecutor\n",
    "\n",
    "![alt text](manytomos.jpeg \"Repeat Parameters and Duplicate Group in Macroexecutor\")\n"
   ]
  },
  {
   "cell_type": "markdown",
   "metadata": {
    "slideshow": {
     "slide_type": "slide"
    }
   },
   "source": [
    "# MACROS\n",
    "\n",
    "# GSF: Generic Scan Framework"
   ]
  },
  {
   "cell_type": "markdown",
   "metadata": {
    "collapsed": true,
    "slideshow": {
     "slide_type": "subslide"
    }
   },
   "source": [
    "# Macros: Generic Scan Framework (GSF)\n",
    "\n",
    "# Feature Description\n"
   ]
  },
  {
   "cell_type": "markdown",
   "metadata": {
    "collapsed": true,
    "slideshow": {
     "slide_type": "subslide"
    }
   },
   "source": [
    "# Macros: Generic Scan Framework (GSF)\n",
    "\n",
    "# Where in the code?"
   ]
  },
  {
   "cell_type": "markdown",
   "metadata": {
    "collapsed": true,
    "slideshow": {
     "slide_type": "subslide"
    }
   },
   "source": [
    "# Macros: Generic Scan Framework (GSF)\n",
    "\n",
    "# Simple Example"
   ]
  },
  {
   "cell_type": "markdown",
   "metadata": {
    "collapsed": true,
    "slideshow": {
     "slide_type": "subslide"
    }
   },
   "source": [
    "# Macros: Generic Scan Framework (GSF)\n",
    "\n",
    "# Real Application"
   ]
  },
  {
   "cell_type": "markdown",
   "metadata": {
    "slideshow": {
     "slide_type": "slide"
    }
   },
   "source": [
    "# MACROS\n",
    "\n",
    "# Hooks"
   ]
  },
  {
   "cell_type": "markdown",
   "metadata": {
    "collapsed": true,
    "slideshow": {
     "slide_type": "subslide"
    }
   },
   "source": [
    "# Macros: Hooks\n",
    "\n",
    "# Feature Description\n"
   ]
  },
  {
   "cell_type": "markdown",
   "metadata": {
    "collapsed": true,
    "slideshow": {
     "slide_type": "subslide"
    }
   },
   "source": [
    "# Macros: Hooks\n",
    "\n",
    "# Where in the code?"
   ]
  },
  {
   "cell_type": "markdown",
   "metadata": {
    "collapsed": true,
    "slideshow": {
     "slide_type": "subslide"
    }
   },
   "source": [
    "# Macros: Hooks\n",
    "\n",
    "# Simple Example"
   ]
  },
  {
   "cell_type": "markdown",
   "metadata": {
    "collapsed": true,
    "slideshow": {
     "slide_type": "subslide"
    }
   },
   "source": [
    "# Macros: Hooks\n",
    "\n",
    "# Real Application"
   ]
  },
  {
   "cell_type": "markdown",
   "metadata": {
    "slideshow": {
     "slide_type": "slide"
    }
   },
   "source": [
    "# MACROS\n",
    "\n",
    "# Rocking curve fitting and go to peak"
   ]
  },
  {
   "cell_type": "markdown",
   "metadata": {
    "collapsed": true,
    "slideshow": {
     "slide_type": "subslide"
    }
   },
   "source": [
    "# Macros: Rocking curve fitting and go to peak\n",
    "\n",
    "# Feature Description\n"
   ]
  },
  {
   "cell_type": "markdown",
   "metadata": {
    "collapsed": true,
    "slideshow": {
     "slide_type": "subslide"
    }
   },
   "source": [
    "# Macros: Rocking curve fitting and go to peak\n",
    "\n",
    "# Where in the code?"
   ]
  },
  {
   "cell_type": "markdown",
   "metadata": {
    "collapsed": true,
    "slideshow": {
     "slide_type": "subslide"
    }
   },
   "source": [
    "# Macros: Rocking curve fitting and go to peak\n",
    "\n",
    "# Simple Example"
   ]
  },
  {
   "cell_type": "markdown",
   "metadata": {
    "collapsed": true,
    "slideshow": {
     "slide_type": "subslide"
    }
   },
   "source": [
    "# Macros: Rocking curve fitting and go to peak\n",
    "\n",
    "# Real Application"
   ]
  },
  {
   "cell_type": "markdown",
   "metadata": {
    "slideshow": {
     "slide_type": "slide"
    }
   },
   "source": [
    "# MACROS\n",
    "\n",
    "# Custom Recorders"
   ]
  },
  {
   "cell_type": "markdown",
   "metadata": {
    "collapsed": true,
    "slideshow": {
     "slide_type": "subslide"
    }
   },
   "source": [
    "# Macros: Custom Recorders\n",
    "\n",
    "# Feature Description\n"
   ]
  },
  {
   "cell_type": "markdown",
   "metadata": {
    "collapsed": true,
    "slideshow": {
     "slide_type": "subslide"
    }
   },
   "source": [
    "# Macros: Custom Recorders\n",
    "\n",
    "# Where in the code?"
   ]
  },
  {
   "cell_type": "markdown",
   "metadata": {
    "collapsed": true,
    "slideshow": {
     "slide_type": "subslide"
    }
   },
   "source": [
    "# Macros: Custom Recorders\n",
    "\n",
    "# Simple Example"
   ]
  },
  {
   "cell_type": "markdown",
   "metadata": {
    "collapsed": true,
    "slideshow": {
     "slide_type": "subslide"
    }
   },
   "source": [
    "# Macros: Custom Recorders\n",
    "\n",
    "# Real Application"
   ]
  }
 ],
 "metadata": {
  "celltoolbar": "Slideshow",
  "kernelspec": {
   "display_name": "Python 2",
   "language": "python",
   "name": "python2"
  },
  "language_info": {
   "codemirror_mode": {
    "name": "ipython",
    "version": 2
   },
   "file_extension": ".py",
   "mimetype": "text/x-python",
   "name": "python",
   "nbconvert_exporter": "python",
   "pygments_lexer": "ipython2",
   "version": "2.7.13"
  }
 },
 "nbformat": 4,
 "nbformat_minor": 2
}
