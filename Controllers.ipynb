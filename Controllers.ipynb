{
 "cells": [
  {
   "cell_type": "markdown",
   "metadata": {
    "slideshow": {
     "slide_type": "slide"
    }
   },
   "source": [
    "# Workshop about controllers and experimental channels "
   ]
  },
  {
   "cell_type": "markdown",
   "metadata": {
    "slideshow": {
     "slide_type": "slide"
    }
   },
   "source": [
    "## How to write those\n",
    "\n"
   ]
  },
  {
   "cell_type": "markdown",
   "metadata": {
    "slideshow": {
     "slide_type": "slide"
    }
   },
   "source": [
    "### General: properties, add/delete device, axis and ctrl attributes, state\n",
    "\n",
    "* [Controller overview](http://www.sardana-controls.org/en/latest/devel/overview/overview_controller.html#sardana-controller-overview)\n",
    "* [How to](http://www.sardana-controls.org/en/latest/devel/howto_controllers/howto_controller.html)\n",
    "* [API](http://www.sardana-controls.org/en/latest/devel/api/api_controller.html#sardana-controller-api)\n",
    "\n",
    "\n"
   ]
  },
  {
   "cell_type": "markdown",
   "metadata": {
    "slideshow": {
     "slide_type": "subslide"
    }
   },
   "source": [
    "#### Pool interaction\n",
    "\n",
    "###### Synchronized START\n",
    "```\n",
    "/FOR/ Each controller(s) implied in the motion\n",
    "     - Call PreStartAll()\n",
    "/END FOR/\n",
    "\n",
    "/FOR/ Each motor(s) implied in the motion\n",
    "     - ret = PreStartOne(motor to move, new position)\n",
    "     - /IF/ ret is not true\n",
    "        /RAISE/ Cannot start. Motor PreStartOne returns False\n",
    "     - /END IF/\n",
    "     - Call StartOne(motor to move, new position)\n",
    "/END FOR/\n",
    "\n",
    "/FOR/ Each controller(s) implied in the motion\n",
    "     - Call StartAll()\n",
    "/END FOR/\n",
    "```\n",
    "\n",
    "###### Synchronized READ\n",
    "\n",
    "```\n",
    "/FOR/ Each controller(s) implied in the reading\n",
    "     - Call PreReadAll()\n",
    "/END FOR/\n",
    "\n",
    "/FOR/ Each motor(s) implied in the reading\n",
    "     - PreReadOne(motor to read)\n",
    "/END FOR/\n",
    "\n",
    "/FOR/ Each controller(s) implied in the reading\n",
    "     - Call ReadAll()\n",
    "/END FOR/\n",
    "\n",
    "/FOR/ Each motor(s) implied in the reading\n",
    "     - Call ReadOne(motor to read)\n",
    "/END FOR/\n",
    "```\n",
    "\n",
    "State evaluation of all pool elements is implemented in a similar algorithm\n",
    "\n",
    "##### [Sardana single diagram](http://www.sardana-controls.org/en/latest/devel/api/api_motor.html#sardana-motor-api)\n"
   ]
  },
  {
   "cell_type": "markdown",
   "metadata": {
    "slideshow": {
     "slide_type": "slide"
    }
   },
   "source": [
    "### Motor controller\n",
    "\n",
    "* [How to](http://www.sardana-controls.org/en/latest/devel/howto_controllers/howto_motorcontroller.html)\n",
    "\n",
    "* Uses at ALBA:\n",
    " * IcePap\n",
    " * PMac\n",
    " * Not physical motors: Machine current\n"
   ]
  },
  {
   "cell_type": "markdown",
   "metadata": {
    "slideshow": {
     "slide_type": "subslide"
    }
   },
   "source": [
    "####  Example: file as position register append/override, file size as position register, /dev/input/mice (x, y and diagonal as pseudo)"
   ]
  },
  {
   "cell_type": "markdown",
   "metadata": {
    "slideshow": {
     "slide_type": "slide"
    }
   },
   "source": [
    "### Pseudo motor controller\n",
    "\n",
    "* [How to](http://www.sardana-controls.org/en/latest/devel/howto_controllers/howto_pseudomotorcontroller.html)\n",
    "\n",
    "TODO\n",
    "\n",
    "* Uses at ALBA:\n",
    " * Mirrors\n",
    " * ID\n",
    " * Tables\n",
    " * Clear\n",
    " * Energy\n",
    " * Motor twin\n",
    "\n"
   ]
  },
  {
   "cell_type": "markdown",
   "metadata": {
    "slideshow": {
     "slide_type": "subslide"
    }
   },
   "source": [
    "#### Example: Mirrors pseudo motors\n",
    "\n",
    "* [TwoLeggedTable](https://sourceforge.net/p/sardana/controllers.git/ci/master/tree/python/pseudomotor/ALBA_BL_COMMON/AlbaBlTwoLeggedTablePseudomotor.py)\n",
    "\n"
   ]
  },
  {
   "cell_type": "markdown",
   "metadata": {
    "slideshow": {
     "slide_type": "slide"
    }
   },
   "source": [
    "### CT controller\n",
    "\n",
    "* [How to](http://www.sardana-controls.org/en/latest/devel/howto_controllers/howto_countertimercontroller.html)\n",
    "\n",
    "* Uses at ALBA:\n",
    " * Electromiter\n",
    " * AdLinks\n",
    " * NI\n",
    " * Lima, Lima ROI"
   ]
  },
  {
   "cell_type": "markdown",
   "metadata": {
    "slideshow": {
     "slide_type": "subslide"
    }
   },
   "source": [
    "#### Example:\n",
    "\n",
    "* [Network traffic](https://sourceforge.net/p/sardana/wiki/Howto-CreateControllers/attachment/myctctrl.py)\n"
   ]
  },
  {
   "cell_type": "markdown",
   "metadata": {
    "slideshow": {
     "slide_type": "slide"
    }
   },
   "source": [
    "### Pseudo CT controller\n",
    "\n",
    "* [How to](http://www.sardana-controls.org/en/latest/devel/howto_controllers/howto_pseudocountercontroller.html)\n",
    "\n",
    "* Uses at ALBA:\n",
    " * IK\n",
    " * IoverI0"
   ]
  },
  {
   "cell_type": "markdown",
   "metadata": {
    "slideshow": {
     "slide_type": "slide"
    }
   },
   "source": [
    "### Packaging installation at ALBA\n",
    "\n",
    "The controllers are defined at three levels:\n",
    "\n",
    "* Production: installed via packages\n",
    "* Development: getting it from repositories check out\n",
    "* User: created by the users (in a shared folder)\n",
    "\n",
    "All of them are defined in the PoolPath property.\n",
    "\n",
    "#### Now (opensuse)\n",
    "``` \n",
    "/beamlines/bl22/controls/user_ctrls  # Users\n",
    "/beamlines/bl22/controls/devel/poolcontrollers # Development\n",
    "/homelocal/sicilia/lib/python/site-packages/poolcontrollers # Package\n",
    "/homelocal/sicilia/lib/python/site-packages/poolcontrollers/IcePAPCtrl\n",
    "/homelocal/sicilia/lib/python/site-packages/poolcontrollers/IBACtrl\n",
    "```\n",
    "#### Future (debian)\n",
    "```\n",
    "/beamlines/bl22/controls/user_ctrls # Users\n",
    "/beamlines/bl22/controls/devel/poolcontrollers # Development\n",
    "/usr/lib/sardana/poolcontrollers # Package\n",
    "/usr/lib/sardana/poolcontrollers/IcePAPCtrl\n",
    "/usr/lib/sardana/poolcontrollers/IBACtrl\n",
    "```\n"
   ]
  },
  {
   "cell_type": "markdown",
   "metadata": {
    "slideshow": {
     "slide_type": "slide"
    }
   },
   "source": [
    "## Good/bad practices\n",
    "\n"
   ]
  },
  {
   "cell_type": "markdown",
   "metadata": {
    "slideshow": {
     "slide_type": "slide"
    }
   },
   "source": [
    "### Use of taurus vs. use of PyTango\n",
    "\n",
    "#### Pros Taurus\n",
    "\n",
    "* More friendly API\n",
    "* To take care with the pythonic read/write\n",
    "\n",
    "#### Pros PyTango\n",
    "\n",
    "* Light weigh\n",
    "* Access to full Tango API (e.g. Device states)\n",
    "* Allow pythonic read/write (e.g. device[attribute] = value)\n",
    "\n",
    "TODO\n"
   ]
  },
  {
   "cell_type": "markdown",
   "metadata": {
    "slideshow": {
     "slide_type": "slide"
    }
   },
   "source": [
    "### Using external libraries\n",
    "\n",
    "The pool allows to use external libraries (not defined in the `$PYTHONPATH`) via its `PYTHONPATH` \n",
    "property. This libraries  will have more preference that the system ones. \n",
    " "
   ]
  },
  {
   "cell_type": "markdown",
   "metadata": {
    "slideshow": {
     "slide_type": "slide"
    }
   },
   "source": [
    "### Class inheritance\n",
    "\n",
    "The controller inheritance is allowed in Sardana, with some limitations. If all clasess are loaded from the same path (as controllers) the sardana controller manager can fail loading the subclasess due to precedence troubles.\n",
    "\n",
    "#### Examples:\n",
    "* [TurboPmacController](https://sourceforge.net/p/sardana/controllers.git/ci/master/tree/python/motor/PmacCtrl/TurboPmacCtrl.py)(Controller)\n",
    " * [LtpTurboPmacController](https://sourceforge.net/p/sardana/controllers.git/ci/master/tree/python/motor/PmacCtrl/AlbaLtpTurboPmacCtrl.py)(Controller)\n",
    "\n",
    "* [Ni660XCtrl](https://sourceforge.net/p/sardana/controllers.git/ci/master/tree/python/countertimer/Ni660XCtrl/Ni660XCTCtrl.py)(Base class) \n",
    " * [Ni660XPositionCTCtrl](https://sourceforge.net/p/sardana/controllers.git/ci/master/tree/python/countertimer/Ni660XCtrl/Ni660XPositionCTCtrl.py)(Controller)\n",
    " *[Ni660XCounterCTCtrl](https://sourceforge.net/p/sardana/controllers.git/ci/master/tree/python/countertimer/Ni660XCtrl/Ni660XCounterCTCtrl.py)(Controller)\n",
    " * [Ni660XPulseWidthCTCtrl.py ](https://sourceforge.net/p/sardana/controllers.git/ci/master/tree/python/countertimer/Ni660XCtrl/Ni660XPulseWidthCTCtrl.py)(Controller)"
   ]
  },
  {
   "cell_type": "markdown",
   "metadata": {
    "slideshow": {
     "slide_type": "slide"
    }
   },
   "source": [
    "### What to do and not to do in the controller\n",
    "\n",
    "TODO"
   ]
  }
 ],
 "metadata": {
  "celltoolbar": "Slideshow",
  "kernelspec": {
   "display_name": "Python 2",
   "language": "python",
   "name": "python2"
  },
  "language_info": {
   "codemirror_mode": {
    "name": "ipython",
    "version": 2
   },
   "file_extension": ".py",
   "mimetype": "text/x-python",
   "name": "python",
   "nbconvert_exporter": "python",
   "pygments_lexer": "ipython2",
   "version": "2.7.13"
  }
 },
 "nbformat": 4,
 "nbformat_minor": 2
}
